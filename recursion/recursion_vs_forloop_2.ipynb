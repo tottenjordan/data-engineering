{
 "cells": [
  {
   "cell_type": "markdown",
   "metadata": {},
   "source": [
    "This exercise demonstrates that recursion, although faster to program, is not the most efficient implementation of an algorithm Recursion functions stack function calls on top of each other until the base case - the case where recursion stops - is reached.  Loops might take more time to code, but they take less space in memory because they only call the function once. \n",
    "\n",
    "We examined and compared performance of two functions that compute the factorial of an integer. The first of these functions uses recursion, while the other calculates the factorial in a for loop. On average, the recursion algorithm took close to 5 time longer to run than the iterative algorithm."
   ]
  },
  {
   "cell_type": "code",
   "execution_count": 1,
   "metadata": {
    "collapsed": true
   },
   "outputs": [],
   "source": [
    "import numpy as np\n",
    "import pandas as pd\n",
    "import matplotlib.pyplot as plt\n",
    "from timeit import default_timer as timer  \n",
    "import sys\n",
    "import warnings\n",
    "\n",
    "if not sys.warnoptions:\n",
    "    warnings.simplefilter(\"ignore\")"
   ]
  },
  {
   "cell_type": "code",
   "execution_count": 2,
   "metadata": {},
   "outputs": [
    {
     "name": "stdout",
     "output_type": "stream",
     "text": [
      "[465 482 422 198 330 117 183 206 223 157]\n"
     ]
    }
   ],
   "source": [
    "# Set random seed for reproducibility\n",
    "np.random.seed(123)\n",
    "\n",
    "# Generate and print random array\n",
    "arr = np.random.randint(low = 100, high = 500, dtype=int, size=10)\n",
    "print(arr)"
   ]
  },
  {
   "cell_type": "code",
   "execution_count": 3,
   "metadata": {},
   "outputs": [
    {
     "name": "stdout",
     "output_type": "stream",
     "text": [
      "120\n"
     ]
    }
   ],
   "source": [
    "def fact_rec(x):\n",
    "    \n",
    "    # Base case - recursion will stop once it reaches this stage\n",
    "    if x == 0:\n",
    "        return 1\n",
    "    \n",
    "    # If not in base case, then continue recursion\n",
    "    else:\n",
    "        return x * fact_rec(x-1)\n",
    "\n",
    "# Print result of 5! to test function  \n",
    "print(fact_rec(5))"
   ]
  },
  {
   "cell_type": "code",
   "execution_count": 4,
   "metadata": {},
   "outputs": [
    {
     "name": "stdout",
     "output_type": "stream",
     "text": [
      "0.881\n",
      "0.3018\n",
      "0.3054\n",
      "0.365\n",
      "0.3311\n",
      "0.0909\n",
      "0.1402\n",
      "0.1264\n",
      "0.1367\n",
      "0.1051\n"
     ]
    }
   ],
   "source": [
    "# Initiate a list to hold runtime for the recursive factorial function\n",
    "recur_timelist = []\n",
    "\n",
    "# Loop over each element in the random array\n",
    "for elem in arr:\n",
    "    \n",
    "    # Record start time\n",
    "    start = timer()\n",
    "    \n",
    "    # Calculate factorial\n",
    "    fact_rec(elem)\n",
    "    \n",
    "    # Record end time\n",
    "    end = timer()\n",
    "    \n",
    "    # Calculate milliseconds elapsed\n",
    "    delta = np.round((end-start) * 1000,4)\n",
    "    \n",
    "    # Append runtime to runtime list\n",
    "    recur_timelist.append(delta)\n",
    "    \n",
    "    # Print runtime for verification\n",
    "    print(delta)"
   ]
  },
  {
   "cell_type": "code",
   "execution_count": 5,
   "metadata": {},
   "outputs": [
    {
     "name": "stdout",
     "output_type": "stream",
     "text": [
      "120\n"
     ]
    }
   ],
   "source": [
    "def fact_iter(x):\n",
    "    \n",
    "    # Initiate variable to store factorial results\n",
    "    product = 1\n",
    "    \n",
    "    # Loop to calculate factorial\n",
    "    for i in range(x):\n",
    "        \n",
    "        # Multiply factorial variable with current element in loop\n",
    "        product *= (i+1)\n",
    "        \n",
    "    # Return factorial results\n",
    "    return product\n",
    "\n",
    "# Print result of 5! to test function  \n",
    "print(fact_iter(5))"
   ]
  },
  {
   "cell_type": "code",
   "execution_count": 6,
   "metadata": {},
   "outputs": [
    {
     "name": "stdout",
     "output_type": "stream",
     "text": [
      "0.1952\n",
      "0.2216\n",
      "0.1549\n",
      "0.0486\n",
      "0.0849\n",
      "0.0221\n",
      "0.0379\n",
      "0.0454\n",
      "0.0525\n",
      "0.0344\n"
     ]
    }
   ],
   "source": [
    "# Initiate a list to hold runtime for the iterative factorial function\n",
    "iter_timelist = []\n",
    "\n",
    "# Loop over each element in the random array\n",
    "for elem in arr:\n",
    "    \n",
    "    # Record start time\n",
    "    start = timer()\n",
    "    \n",
    "    # Calculate factorial\n",
    "    fact_iter(elem)\n",
    "    \n",
    "    # Record end time\n",
    "    end = timer()\n",
    "    \n",
    "    # Calculate milliseconds elapsed\n",
    "    delta = np.round((end-start) * 1000,4)\n",
    "    \n",
    "    # Append runtime to runtime list\n",
    "    iter_timelist.append(delta)\n",
    "    \n",
    "    # Print runtime for verification\n",
    "    print(delta)"
   ]
  },
  {
   "cell_type": "code",
   "execution_count": 7,
   "metadata": {},
   "outputs": [
    {
     "data": {
      "text/html": [
       "<div>\n",
       "<style>\n",
       "    .dataframe thead tr:only-child th {\n",
       "        text-align: right;\n",
       "    }\n",
       "\n",
       "    .dataframe thead th {\n",
       "        text-align: left;\n",
       "    }\n",
       "\n",
       "    .dataframe tbody tr th {\n",
       "        vertical-align: top;\n",
       "    }\n",
       "</style>\n",
       "<table border=\"1\" class=\"dataframe\">\n",
       "  <thead>\n",
       "    <tr style=\"text-align: right;\">\n",
       "      <th></th>\n",
       "      <th>Iteration</th>\n",
       "      <th>Recursion</th>\n",
       "    </tr>\n",
       "  </thead>\n",
       "  <tbody>\n",
       "    <tr>\n",
       "      <th>117</th>\n",
       "      <td>0.0221</td>\n",
       "      <td>0.0909</td>\n",
       "    </tr>\n",
       "    <tr>\n",
       "      <th>157</th>\n",
       "      <td>0.0344</td>\n",
       "      <td>0.1051</td>\n",
       "    </tr>\n",
       "    <tr>\n",
       "      <th>183</th>\n",
       "      <td>0.0379</td>\n",
       "      <td>0.1402</td>\n",
       "    </tr>\n",
       "    <tr>\n",
       "      <th>198</th>\n",
       "      <td>0.0486</td>\n",
       "      <td>0.3650</td>\n",
       "    </tr>\n",
       "    <tr>\n",
       "      <th>206</th>\n",
       "      <td>0.0454</td>\n",
       "      <td>0.1264</td>\n",
       "    </tr>\n",
       "    <tr>\n",
       "      <th>223</th>\n",
       "      <td>0.0525</td>\n",
       "      <td>0.1367</td>\n",
       "    </tr>\n",
       "    <tr>\n",
       "      <th>330</th>\n",
       "      <td>0.0849</td>\n",
       "      <td>0.3311</td>\n",
       "    </tr>\n",
       "    <tr>\n",
       "      <th>422</th>\n",
       "      <td>0.1549</td>\n",
       "      <td>0.3054</td>\n",
       "    </tr>\n",
       "    <tr>\n",
       "      <th>465</th>\n",
       "      <td>0.1952</td>\n",
       "      <td>0.8810</td>\n",
       "    </tr>\n",
       "    <tr>\n",
       "      <th>482</th>\n",
       "      <td>0.2216</td>\n",
       "      <td>0.3018</td>\n",
       "    </tr>\n",
       "  </tbody>\n",
       "</table>\n",
       "</div>"
      ],
      "text/plain": [
       "     Iteration  Recursion\n",
       "117     0.0221     0.0909\n",
       "157     0.0344     0.1051\n",
       "183     0.0379     0.1402\n",
       "198     0.0486     0.3650\n",
       "206     0.0454     0.1264\n",
       "223     0.0525     0.1367\n",
       "330     0.0849     0.3311\n",
       "422     0.1549     0.3054\n",
       "465     0.1952     0.8810\n",
       "482     0.2216     0.3018"
      ]
     },
     "execution_count": 7,
     "metadata": {},
     "output_type": "execute_result"
    }
   ],
   "source": [
    "# Create dataframe\n",
    "runtime_df = pd.DataFrame(data ={\"Recursion\": recur_timelist, \"Iteration\" : iter_timelist}, index=arr)\n",
    "\n",
    "# Sort by index - the randomly generated array above\n",
    "runtime_df.sort_index(ascending=True, axis=0, inplace=True)\n",
    "\n",
    "# Display table\n",
    "runtime_df"
   ]
  },
  {
   "cell_type": "code",
   "execution_count": 8,
   "metadata": {},
   "outputs": [
    {
     "data": {
      "image/png": "[encoded data removed]",
      "text/plain": [
       "<matplotlib.figure.Figure at 0x208c2fd24a8>"
      ]
     },
     "metadata": {},
     "output_type": "display_data"
    }
   ],
   "source": [
    "# set height of bar\n",
    "width = .35\n",
    "\n",
    "# set height of bar\n",
    "bars1 = runtime_df.Recursion\n",
    "bars2 = runtime_df.Iteration\n",
    "\n",
    "\n",
    "# Set position of bar on X axis\n",
    "r1 = np.arange(len(bars1))\n",
    "r2 = [x + width for x in r1]\n",
    "\n",
    "# Start the matplotlib.pyplot figure and add the bar graphs\n",
    "fig, ax = plt.subplots(figsize=(12, 8))\n",
    "res1 = ax.bar(r1, bars1, width, color='green')\n",
    "res2 = ax.bar(r2, bars2, width, color='blue')\n",
    "\n",
    "\n",
    "# add labels, title and axes ticks\n",
    "ax.set_title('Runtime by algorithm and array size')\n",
    "ax.set_ylabel('Time in Milliseconds')\n",
    "ax.set_xlabel('Array size')\n",
    "ax.set_xticks(range(runtime_df.shape[0]))\n",
    "ax.set_xticklabels(runtime_df.index.astype(str))\n",
    "\n",
    "# Add legend\n",
    "ax.legend((res1[0], res2[0]), ('Recursion', 'Iteration'))\n",
    "\n",
    "# Show graph\n",
    "plt.show()"
   ]
  },
  {
   "cell_type": "code",
   "execution_count": null,
   "metadata": {
    "collapsed": true
   },
   "outputs": [],
   "source": []
  }
 ],
 "metadata": {
  "kernelspec": {
   "display_name": "Python 3",
   "language": "python",
   "name": "python3"
  },
  "language_info": {
   "codemirror_mode": {
    "name": "ipython",
    "version": 3
   },
   "file_extension": ".py",
   "mimetype": "text/x-python",
   "name": "python",
   "nbconvert_exporter": "python",
   "pygments_lexer": "ipython3",
   "version": "3.6.3"
  }
 },
 "nbformat": 4,
 "nbformat_minor": 2
}
