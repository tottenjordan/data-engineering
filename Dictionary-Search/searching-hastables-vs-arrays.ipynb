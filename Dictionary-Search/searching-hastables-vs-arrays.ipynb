{
 "cells": [
  {
   "cell_type": "markdown",
   "metadata": {},
   "source": [
    "Compare search algorithms across arrays and dictionaries"
   ]
  },
  {
   "cell_type": "code",
   "execution_count": 1,
   "metadata": {
    "collapsed": true
   },
   "outputs": [],
   "source": [
    "import random\n",
    "import time\n",
    "import numpy as np\n",
    "import matplotlib.pyplot as plt"
   ]
  },
  {
   "cell_type": "code",
   "execution_count": 2,
   "metadata": {},
   "outputs": [
    {
     "name": "stdout",
     "output_type": "stream",
     "text": [
      "['iplafuifxv', 'snqlzujohi', 'fcfnxmhztk', 'jvtugoihlq', 'dwipnylvfl', 'iuxhbbafnf', 'fcqfxofgtc', 'aqxpzkzynb', 'xlpryzzohe', 'auaidqwncl', 'yruyhktxlg', 'khsirwjatf', 'epvvatnibw', 'kizwotcqrg', 'pcltolmpgv', 'ghgzwwlsae', 'egoufszzdn', 'kdivmexqij', 'hyuswzkxel', 'fhpxaavifd', 'cspfpwntvq', 'oytxqaqgnr', 'kvkgrrzsmc', 'fjduzulgrh', 'dtkbromaeh', 'zdiqoljbnv', 'dszyjowqdl', 'hyyuywrthy', 'zwwjrfcqhl', 'asxcmenklg', 'omyzeiglhb', 'pmjogaxqgo', 'zkjroaiqvu', 'ikvnrsxjqc', 'mfvnzlziuw', 'mcqncqeqxe', 'jgznddikrv', 'lxgvamrrse', 'axghjgkqnx', 'lxtcssybon', 'dgjympbnyq', 'snvzfendgt', 'zhlehmoynt', 'ipsnboquuq', 'adbbxskrcb', 'fdjhioxwew', 'wpkzuliysm', 'rwvkolufay', 'tdeolmsjqe', 'rluwfdkrkh', 'xqyqecchxd', 'uvopreakcw', 'dtfuwinqeg', 'sxghpoizgb', 'bfqdqobaku', 'dassgxvsdf', 'dpcrebnhbg', 'zgvjxzavuo', 'puzutqkkvy', 'qwlyutrltz', 'ugjsctmjdi', 'ulxfwdvlqc', 'zdwtwqsztu', 'uoyuqlckcu', 'vlutncksqo', 'pyerkuypdg', 'ebrkynmstk', 'eaobtwortw', 'cxmxuimwhf', 'qnkzleswnv', 'cfbaqigkxj', 'qmxkvjktvo', 'nxijlbeqfx', 'lbucemmusg', 'duaisskzyn', 'jtcqpgiywg', 'xzfrqiylgd', 'vvrealamut', 'bkhukqdeur', 'oixhglxccs', 'ndhjcmgzwz', 'bdnmtvltlk', 'zkkwjdshkf', 'wdpfvlvdxz', 'pbfkqdurxk', 'okmppmblbd', 'aucpmqrhoo', 'gexfpdpzob', 'bkmbxcmaja', 'dcchtbacac', 'dkpzfeceam', 'vjgvpkidwu', 'cnrvwjaoad', 'nulxwfpgsp', 'pbavdjvhbd', 'twifgfujej', 'ybkguoeanl', 'jqlgymxyjt', 'qbtcnxwcuv', 'urukhrnvvd']\n",
      "snqlzujohi\n"
     ]
    }
   ],
   "source": [
    "# creating a list of 100 random names\n",
    "arr = []\n",
    "\n",
    "for x in range(100):\n",
    "    name = ''.join(random.choice('abcdefghijklmnopqrstuvwxyz') for i in range(10))\n",
    "    arr.append(name)\n",
    "    \n",
    "# check\n",
    "print(arr)\n",
    "print(arr[1])"
   ]
  },
  {
   "cell_type": "code",
   "execution_count": 3,
   "metadata": {
    "collapsed": true
   },
   "outputs": [],
   "source": [
    "def linear_search(list, item):\n",
    "    i = 0\n",
    "    high = len(list) - 1\n",
    "    \n",
    "    while i <= high:\n",
    "        if list[i] == item:\n",
    "            return i\n",
    "        else:\n",
    "            i = i + 1\n",
    "\n",
    "    return None"
   ]
  },
  {
   "cell_type": "code",
   "execution_count": 4,
   "metadata": {},
   "outputs": [
    {
     "name": "stdout",
     "output_type": "stream",
     "text": [
      "['xqyqecchxd', 'ugjsctmjdi', 'cfbaqigkxj', 'ndhjcmgzwz', 'dkpzfeceam']\n"
     ]
    }
   ],
   "source": [
    "names = ([arr[50], arr[60], arr[70], arr[80], arr[90]])\n",
    "print(names)"
   ]
  },
  {
   "cell_type": "code",
   "execution_count": 5,
   "metadata": {},
   "outputs": [
    {
     "name": "stdout",
     "output_type": "stream",
     "text": [
      "[['xqyqecchxd' '50' '20.148172027463144']\n",
      " ['ugjsctmjdi' '60' '19.35804763422929']\n",
      " ['cfbaqigkxj' '70' '21.728420813930853']\n",
      " ['ndhjcmgzwz' '80' '33.97534890905551']\n",
      " ['dkpzfeceam' '90' '13.82717688159235']]\n"
     ]
    }
   ],
   "source": [
    "# looking up 5 names using linear search\n",
    "\n",
    "results = []\n",
    "\n",
    "for x in range(len(names)):\n",
    "    name = names[x]\n",
    "    start = time.clock()*1000000 #microseconds\n",
    "    linear_value = linear_search(arr, name) #check\n",
    "    end = time.clock()*1000000\n",
    "    linear_time = end - start\n",
    "    results.append([name, linear_value, linear_time])\n",
    "\n",
    "results = np.array(results)\n",
    "print(results)"
   ]
  },
  {
   "cell_type": "code",
   "execution_count": 6,
   "metadata": {},
   "outputs": [
    {
     "name": "stdout",
     "output_type": "stream",
     "text": [
      "{'iplafuifxv': 0, 'snqlzujohi': 1, 'fcfnxmhztk': 2, 'jvtugoihlq': 3, 'dwipnylvfl': 4, 'iuxhbbafnf': 5, 'fcqfxofgtc': 6, 'aqxpzkzynb': 7, 'xlpryzzohe': 8, 'auaidqwncl': 9, 'yruyhktxlg': 10, 'khsirwjatf': 11, 'epvvatnibw': 12, 'kizwotcqrg': 13, 'pcltolmpgv': 14, 'ghgzwwlsae': 15, 'egoufszzdn': 16, 'kdivmexqij': 17, 'hyuswzkxel': 18, 'fhpxaavifd': 19, 'cspfpwntvq': 20, 'oytxqaqgnr': 21, 'kvkgrrzsmc': 22, 'fjduzulgrh': 23, 'dtkbromaeh': 24, 'zdiqoljbnv': 25, 'dszyjowqdl': 26, 'hyyuywrthy': 27, 'zwwjrfcqhl': 28, 'asxcmenklg': 29, 'omyzeiglhb': 30, 'pmjogaxqgo': 31, 'zkjroaiqvu': 32, 'ikvnrsxjqc': 33, 'mfvnzlziuw': 34, 'mcqncqeqxe': 35, 'jgznddikrv': 36, 'lxgvamrrse': 37, 'axghjgkqnx': 38, 'lxtcssybon': 39, 'dgjympbnyq': 40, 'snvzfendgt': 41, 'zhlehmoynt': 42, 'ipsnboquuq': 43, 'adbbxskrcb': 44, 'fdjhioxwew': 45, 'wpkzuliysm': 46, 'rwvkolufay': 47, 'tdeolmsjqe': 48, 'rluwfdkrkh': 49, 'xqyqecchxd': 50, 'uvopreakcw': 51, 'dtfuwinqeg': 52, 'sxghpoizgb': 53, 'bfqdqobaku': 54, 'dassgxvsdf': 55, 'dpcrebnhbg': 56, 'zgvjxzavuo': 57, 'puzutqkkvy': 58, 'qwlyutrltz': 59, 'ugjsctmjdi': 60, 'ulxfwdvlqc': 61, 'zdwtwqsztu': 62, 'uoyuqlckcu': 63, 'vlutncksqo': 64, 'pyerkuypdg': 65, 'ebrkynmstk': 66, 'eaobtwortw': 67, 'cxmxuimwhf': 68, 'qnkzleswnv': 69, 'cfbaqigkxj': 70, 'qmxkvjktvo': 71, 'nxijlbeqfx': 72, 'lbucemmusg': 73, 'duaisskzyn': 74, 'jtcqpgiywg': 75, 'xzfrqiylgd': 76, 'vvrealamut': 77, 'bkhukqdeur': 78, 'oixhglxccs': 79, 'ndhjcmgzwz': 80, 'bdnmtvltlk': 81, 'zkkwjdshkf': 82, 'wdpfvlvdxz': 83, 'pbfkqdurxk': 84, 'okmppmblbd': 85, 'aucpmqrhoo': 86, 'gexfpdpzob': 87, 'bkmbxcmaja': 88, 'dcchtbacac': 89, 'dkpzfeceam': 90, 'vjgvpkidwu': 91, 'cnrvwjaoad': 92, 'nulxwfpgsp': 93, 'pbavdjvhbd': 94, 'twifgfujej': 95, 'ybkguoeanl': 96, 'jqlgymxyjt': 97, 'qbtcnxwcuv': 98, 'urukhrnvvd': 99}\n"
     ]
    }
   ],
   "source": [
    "dict_name = {i: arr[i] for i in range(0, len(arr))}\n",
    "inv_dict = {v: k for k, v in dict_name.items()}\n",
    "print(inv_dict)"
   ]
  },
  {
   "cell_type": "code",
   "execution_count": 7,
   "metadata": {},
   "outputs": [
    {
     "name": "stdout",
     "output_type": "stream",
     "text": [
      "[['xqyqecchxd' '50' '20.148172027463144' '50.0' '3.160497572273016']\n",
      " ['ugjsctmjdi' '60' '19.35804763422929' '60.0' '1.1851865909993649']\n",
      " ['cfbaqigkxj' '70' '21.728420813930853' '70.0' '0.7901243939995766']\n",
      " ['ndhjcmgzwz' '80' '33.97534890905551' '80.0' '0.7901243939995766']\n",
      " ['dkpzfeceam' '90' '13.82717688159235' '90.0' '1.1851865909993649']]\n"
     ]
    }
   ],
   "source": [
    "results_dict = []\n",
    "\n",
    "for x in range(len(names)):\n",
    "    name = names[x]\n",
    "    start = time.clock()*1000000\n",
    "    dict_value = inv_dict.get(name) #check\n",
    "    end = time.clock()*1000000\n",
    "    dict_time = end - start\n",
    "    results_dict.append([dict_value,dict_time])\n",
    "\n",
    "results = np.column_stack([results, results_dict])\n",
    "print(results)"
   ]
  },
  {
   "cell_type": "code",
   "execution_count": 8,
   "metadata": {
    "collapsed": true
   },
   "outputs": [],
   "source": [
    "def to_float(x):\n",
    "    return(float(x))"
   ]
  },
  {
   "cell_type": "code",
   "execution_count": 9,
   "metadata": {},
   "outputs": [
    {
     "data": {
      "image/png": "[encoded data removed]",
      "text/plain": [
       "<matplotlib.figure.Figure at 0x19f89319588>"
      ]
     },
     "metadata": {},
     "output_type": "display_data"
    }
   ],
   "source": [
    "plt.figure(figsize=(10,6))\n",
    "\n",
    "barwidth = 0.25\n",
    "bar1 = list(map(lambda x: float(x), results[:,2].tolist()))\n",
    "bar2 = list(map(lambda x: float(x), results[:,4].tolist()))\n",
    "\n",
    "r1 = np.arange(len(bar1))\n",
    "r2 = [x + barwidth for x in r1]\n",
    "\n",
    "plt.bar(r1, bar1, color='r', width=barwidth, label='Array search time')\n",
    "plt.bar(r2, bar2, color='b', width=barwidth, label='Dictionary search time')\n",
    "\n",
    "plt.title('Search time in array vs dictionary')\n",
    "plt.xlabel('Names')\n",
    "plt.ylabel('Search time in Microseconds')\n",
    "\n",
    "plt.xticks([r+barwidth/2 for r in range(len(bar1))], names)\n",
    "plt.setp(plt.gca().get_xticklabels(), rotation=45, horizontalalignment = 'right')\n",
    "plt.ylim(ymin=0)\n",
    "plt.legend()\n",
    "plt.show()"
   ]
  },
  {
   "cell_type": "code",
   "execution_count": 10,
   "metadata": {
    "collapsed": true
   },
   "outputs": [],
   "source": [
    "# sort array using quick sort\n",
    "def quicksort(array):\n",
    "  if len(array) < 2:\n",
    "    # base case, arrays with 0 or 1 element are already \"sorted\"\n",
    "    return array\n",
    "  else:\n",
    "    # recursive case\n",
    "    pivot = array[0]\n",
    "    # sub-array of all the elements less than the pivot\n",
    "    less = [i for i in array[1:] if i <= pivot]\n",
    "    # sub-array of all the elements greater than the pivot\n",
    "    greater = [i for i in array[1:] if i > pivot]\n",
    "    return quicksort(less) + [pivot] + quicksort(greater)"
   ]
  },
  {
   "cell_type": "code",
   "execution_count": 11,
   "metadata": {
    "collapsed": true
   },
   "outputs": [],
   "source": [
    "def binary_search(list, item):\n",
    "    low = 0\n",
    "    high = len(list) - 1\n",
    "\n",
    "    while low <= high:\n",
    "        mid = (low + high) // 2\n",
    "        guess = list[mid]\n",
    "        if guess == item:\n",
    "            return mid\n",
    "        if guess > item:\n",
    "            high = mid - 1\n",
    "        else:\n",
    "            low = mid + 1\n",
    "    \n",
    "    return None"
   ]
  },
  {
   "cell_type": "code",
   "execution_count": 12,
   "metadata": {},
   "outputs": [
    {
     "name": "stdout",
     "output_type": "stream",
     "text": [
      "['bkmbxcmaja', 'fcqfxofgtc', 'lbucemmusg', 'qnkzleswnv', 'xqyqecchxd', 'zwwjrfcqhl']\n"
     ]
    }
   ],
   "source": [
    "# sorted array using quicksort\n",
    "sorted_arr = quicksort(arr)\n",
    "\n",
    "sortednames = ([sorted_arr[9],\n",
    "                sorted_arr[29],\n",
    "                sorted_arr[49],\n",
    "                sorted_arr[69],\n",
    "                sorted_arr[89],\n",
    "                sorted_arr[99]])\n",
    "print(sortednames)"
   ]
  },
  {
   "cell_type": "code",
   "execution_count": 13,
   "metadata": {},
   "outputs": [
    {
     "name": "stdout",
     "output_type": "stream",
     "text": [
      "[['bkmbxcmaja' '9' '7.5061817318201065' '9' '5.530870750546455']\n",
      " ['fcqfxofgtc' '29' '10.666679307818413' '29' '5.530870765447617']\n",
      " ['lbucemmusg' '49' '17.382736653089523' '49' '1.580248773097992']\n",
      " ['qnkzleswnv' '69' '21.728420823812485' '69' '5.135808572173119']\n",
      " ['xqyqecchxd' '89' '26.469167172908783' '89' '5.530870750546455']\n",
      " ['zwwjrfcqhl' '99' '30.024726942181587' '99' '4.740746363997459']]\n"
     ]
    }
   ],
   "source": [
    "results2 = []\n",
    "\n",
    "for x in range(len(sortednames)):\n",
    "    name = sortednames[x]\n",
    "    start = time.clock()*1000000\n",
    "    linear_value = linear_search(sorted_arr, name)\n",
    "    end = time.clock()*1000000\n",
    "    linear_time = end - start\n",
    "    \n",
    "    start = time.clock()*1000000\n",
    "    binary_value = binary_search(sorted_arr, name)\n",
    "    end = time.clock()*1000000\n",
    "    binary_time = end - start\n",
    "    \n",
    "    results2.append([name, linear_value, linear_time, binary_value, binary_time])\n",
    "\n",
    "results2 = np.array(results2)\n",
    "print(results2)"
   ]
  },
  {
   "cell_type": "code",
   "execution_count": 14,
   "metadata": {},
   "outputs": [
    {
     "name": "stdout",
     "output_type": "stream",
     "text": [
      "[['bkmbxcmaja' '9' '7.5061817318201065' '9' '5.530870750546455'\n",
      "  '7.1111195385456085']\n",
      " ['fcqfxofgtc' '29' '10.666679307818413' '29' '5.530870765447617'\n",
      "  '1.9753109961748123']\n",
      " ['lbucemmusg' '49' '17.382736653089523' '49' '1.580248773097992'\n",
      "  '1.5802488029003143']\n",
      " ['qnkzleswnv' '69' '21.728420823812485' '69' '5.135808572173119'\n",
      "  '1.9753109812736511']\n",
      " ['xqyqecchxd' '89' '26.469167172908783' '89' '5.530870750546455'\n",
      "  '1.5802487879991531']\n",
      " ['zwwjrfcqhl' '99' '30.024726942181587' '99' '4.740746363997459'\n",
      "  '1.1851865947246552']]\n"
     ]
    }
   ],
   "source": [
    "results_dict2 = []\n",
    "\n",
    "for x in range(len(sortednames)):\n",
    "    name = sortednames[x]\n",
    "    start = time.clock()*1000000\n",
    "    dict_value = inv_dict.get(name)\n",
    "    end = time.clock()*1000000\n",
    "    dict_time = end - start\n",
    "    results_dict2.append(dict_time)\n",
    "\n",
    "results2 = np.column_stack([results2, results_dict2])\n",
    "print(results2)"
   ]
  },
  {
   "cell_type": "code",
   "execution_count": 15,
   "metadata": {},
   "outputs": [
    {
     "data": {
      "image/png": "[encoded data removed]",
      "text/plain": [
       "<matplotlib.figure.Figure at 0x19f89319d68>"
      ]
     },
     "metadata": {},
     "output_type": "display_data"
    }
   ],
   "source": [
    "plt.figure(figsize=(10,6))\n",
    "\n",
    "barWidth = 0.25\n",
    "\n",
    "bar1 = list(map(lambda x: float(x), results2[:,2].tolist()))\n",
    "bar2 = list(map(lambda x: float(x), results2[:,4].tolist()))\n",
    "bar3 = list(map(lambda x: float(x), results2[:,5].tolist()))\n",
    "\n",
    "r1 = np.arange(len(bar1))\n",
    "r2 = [x + barWidth for x in r1]\n",
    "r3 = [x + barWidth for x in r2]\n",
    "\n",
    "plt.bar(r1, bar1, color='r', width=barWidth, label='Linear array search time')\n",
    "plt.bar(r2, bar2, color='g', width=barWidth, label='Binary array search time')\n",
    "plt.bar(r3, bar3, color='b', width=barWidth, label='Dictionary search time')\n",
    "\n",
    "plt.title('Search time in array vs dictionary')\n",
    "plt.xlabel('Names')\n",
    "plt.ylabel('Search time in Microseconds')\n",
    "plt.xticks([r + barWidth for r in range(len(bar1))], sortednames)\n",
    "plt.setp(plt.gca().get_xticklabels(), rotation=45, horizontalalignment = 'right')\n",
    "plt.legend()\n",
    "plt.show()"
   ]
  },
  {
   "cell_type": "code",
   "execution_count": null,
   "metadata": {
    "collapsed": true
   },
   "outputs": [],
   "source": []
  }
 ],
 "metadata": {
  "kernelspec": {
   "display_name": "Python 3",
   "language": "python",
   "name": "python3"
  },
  "language_info": {
   "codemirror_mode": {
    "name": "ipython",
    "version": 3
   },
   "file_extension": ".py",
   "mimetype": "text/x-python",
   "name": "python",
   "nbconvert_exporter": "python",
   "pygments_lexer": "ipython3",
   "version": "3.6.3"
  }
 },
 "nbformat": 4,
 "nbformat_minor": 2
}
