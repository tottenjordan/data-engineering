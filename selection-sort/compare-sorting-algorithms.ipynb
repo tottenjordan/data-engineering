{
 "cells": [
  {
   "cell_type": "code",
   "execution_count": 3,
   "metadata": {
    "collapsed": true
   },
   "outputs": [],
   "source": [
    "import random\n",
    "import numpy as np\n",
    "from numpy.random import seed\n",
    "from numpy.random import randint\n",
    "import matplotlib.pyplot as plt\n",
    "import time\n",
    "\n",
    "###############################################################################"
   ]
  },
  {
   "cell_type": "code",
   "execution_count": 4,
   "metadata": {},
   "outputs": [
    {
     "name": "stdout",
     "output_type": "stream",
     "text": [
      "[2, 3, 5, 6, 10]\n",
      "[2, 3, 5, 10]\n"
     ]
    }
   ],
   "source": [
    "# Sort algorithms \n",
    "\n",
    "#create selection sort algorithms\n",
    "  \n",
    "# Finds the smallest value in an array\n",
    "def findSmallest(arr):\n",
    "  # Stores the smallest value\n",
    "  smallest = arr[0]\n",
    "  # Stores the index of the smallest value\n",
    "  smallest_index = 0\n",
    "  for i in range(1, len(arr)):\n",
    "    if arr[i] < smallest:\n",
    "      smallest_index = i\n",
    "      smallest = arr[i]      \n",
    "  return smallest_index\n",
    "\n",
    "# Sort array\n",
    "def selectionSort(arr):\n",
    "  newArr = []\n",
    "  for i in range(len(arr)):\n",
    "      # Finds the smallest element in the array and adds it to the new array\n",
    "      smallest = findSmallest(arr)\n",
    "      newArr.append(arr.pop(smallest))\n",
    "  return newArr\n",
    "\n",
    "print(selectionSort([5, 3, 6, 2, 10]))\n",
    "\n",
    "# quickSort\n",
    "def quicksort(array):\n",
    "  if len(array) < 2:\n",
    "    # base case, arrays with 0 or 1 element are already \"sorted\"\n",
    "    return array\n",
    "  else:\n",
    "    # recursive case\n",
    "    pivot = array[0]\n",
    "    # sub-array of all the elements less than the pivot\n",
    "    less = [i for i in array[1:] if i <= pivot]\n",
    "    # sub-array of all the elements greater than the pivot\n",
    "    greater = [i for i in array[1:] if i > pivot]\n",
    "    return quicksort(less) + [pivot] + quicksort(greater)\n",
    "\n",
    "print(quicksort([10, 5, 2, 3]))"
   ]
  },
  {
   "cell_type": "code",
   "execution_count": 5,
   "metadata": {},
   "outputs": [],
   "source": [
    "# create random number arrays of 5,000, 10,000, 15,000, 20,000, 25,000\n",
    "# seed random number generator \n",
    "\n",
    "np.random.seed(seed=123)\n",
    "small = np.random.randint(99999, size=5000).tolist()\n",
    "\n",
    "np.random.seed(seed=123)\n",
    "medium = np.random.randint(99999, size=10000).tolist()\n",
    "\n",
    "np.random.seed(seed=123)\n",
    "big = np.random.randint(99999, size=15000).tolist()\n",
    "\n",
    "np.random.seed(seed=123)\n",
    "bigger = np.random.randint(99999, size=20000).tolist()\n",
    "\n",
    "np.random.seed(seed=123)\n",
    "biggest = np.random.randint(99999, size=25000).tolist()\n",
    "\n",
    "np.random.seed(seed=123)\n",
    "z = np.random.randint(99999, size=256).tolist()"
   ]
  },
  {
   "cell_type": "code",
   "execution_count": 6,
   "metadata": {
    "collapsed": true
   },
   "outputs": [],
   "source": [
    "# z warmup\n",
    "z  = np.sort(z)\n",
    "\n",
    "# findSmallest - small array\n",
    "sm_findsm_start = time.clock()\n",
    "small_findSmall = findSmallest(small)\n",
    "sm_findsm_stop = time.clock()\n",
    "smallFindsm_time = sm_findsm_stop - sm_findsm_start\n",
    "\n",
    "\n",
    "#  findSmallest - medium array\n",
    "m_findsm_start = time.clock()\n",
    "medium_findSmall = findSmallest(medium)\n",
    "m_findsm_stop = time.clock()\n",
    "mediumFindsm_time = m_findsm_stop - m_findsm_start\n",
    "\n",
    "\n",
    "#  findSmallest - big array\n",
    "b_findsm_start = time.clock()\n",
    "big_findSmall = findSmallest(big)\n",
    "b_findsm_stop = time.clock()\n",
    "bigFindsm_time = b_findsm_stop - b_findsm_start\n",
    "\n",
    "\n",
    "# findSmallest - bigger array\n",
    "br_findsm_start = time.clock()\n",
    "bigger_findSmall = findSmallest(bigger)\n",
    "br_findsm_stop = time.clock()\n",
    "biggerFindsm_time = br_findsm_stop - br_findsm_start\n",
    "\n",
    "\n",
    "#  findSmallest - biggest array\n",
    "bs_findsm_start = time.clock()\n",
    "biggest_findSmall = findSmallest(biggest)\n",
    "bs_findsm_stop = time.clock()\n",
    "biggestFindsm_time = bs_findsm_stop - bs_findsm_start\n"
   ]
  },
  {
   "cell_type": "code",
   "execution_count": 7,
   "metadata": {
    "collapsed": true
   },
   "outputs": [],
   "source": [
    "# sort arrays using selectionSort\n",
    "# note the execution time\n",
    "\n",
    "# small selectionSort\n",
    "s_selection_start = time.clock()\n",
    "smallSelection = selectionSort(small)\n",
    "s_selection_stop = time.clock()\n",
    "smallSelection_time = s_selection_stop - s_selection_start\n",
    "\n",
    "\n",
    "# medium selectionSort\n",
    "med_selection_start = time.clock()\n",
    "mediumSelection = selectionSort(medium)\n",
    "med_selection_stop = time.clock()\n",
    "mediumSelection_time = med_selection_stop - med_selection_start\n",
    "\n",
    "\n",
    "# big selectionSort\n",
    "big_selection_start = time.clock()\n",
    "bigSelection = selectionSort(big)\n",
    "big_selection_stop = time.clock()\n",
    "bigSelection_time = big_selection_stop - big_selection_start\n",
    "\n",
    "\n",
    "# bigger selectionSort\n",
    "bigger_selection_start = time.clock()\n",
    "biggerSelection = selectionSort(bigger)\n",
    "bigger_selection_stop = time.clock()\n",
    "biggerSelection_time = bigger_selection_stop - bigger_selection_start\n",
    "\n",
    "\n",
    "# biggest selectionSort\n",
    "biggest_selection_start = time.clock()\n",
    "biggestSelection = selectionSort(biggest)\n",
    "biggest_selection_stop = time.clock()\n",
    "biggestSelection_time = biggest_selection_stop - biggest_selection_start"
   ]
  },
  {
   "cell_type": "code",
   "execution_count": 8,
   "metadata": {
    "collapsed": true
   },
   "outputs": [],
   "source": [
    "# sort each array from smallest to largest\n",
    "\n",
    "# z warmup\n",
    "z  = np.sort(z)\n",
    "\n",
    "# sort small array\n",
    "sm_start = time.clock()\n",
    "small_sort = np.sort(small)\n",
    "sm_stop = time.clock()\n",
    "smallSort_time = sm_stop - sm_start\n",
    "\n",
    "# z warmup\n",
    "# z  = np.sort(z)\n",
    "# sort medium array\n",
    "m_start = time.clock()\n",
    "medium_sort = np.sort(medium)\n",
    "m_stop = time.clock()\n",
    "mediumSort_time = m_stop - m_start\n",
    "\n",
    "# z warmup\n",
    "#z  = np.sort(z)\n",
    "# sort big array\n",
    "b_start = time.clock()\n",
    "big_sort = np.sort(big)\n",
    "b_stop = time.clock()\n",
    "bigSort_time = b_stop - b_start\n",
    "\n",
    "# z warmup\n",
    "#z  = np.sort(z)\n",
    "# sort bigger array\n",
    "br_start = time.clock()\n",
    "bigger_sort = np.sort(bigger)\n",
    "br_stop = time.clock()\n",
    "biggerSort_time = br_stop - br_start\n",
    "\n",
    "# z warmup\n",
    "#z  = np.sort(z)\n",
    "# sort biggest array\n",
    "bs_start = time.clock()\n",
    "biggest_sort = np.sort(biggest)\n",
    "bs_stop = time.clock()\n",
    "biggestSort_time = bs_stop - bs_start"
   ]
  },
  {
   "cell_type": "code",
   "execution_count": 9,
   "metadata": {
    "collapsed": true
   },
   "outputs": [],
   "source": [
    "###############################################################################\n",
    "# sort each array from smallest to largest using quicksort\n",
    "\n",
    "# z warmup\n",
    "z  = np.sort(z)\n",
    "\n",
    "# sort small array\n",
    "sm_quick_start = time.clock()\n",
    "small_quick = quicksort(small)\n",
    "sm_quick_stop = time.clock()\n",
    "smallQuick_time = sm_quick_stop - sm_quick_start\n",
    "\n",
    "# z warmup\n",
    "# z  = np.sort(z)\n",
    "# sort medium array\n",
    "m_quick_start = time.clock()\n",
    "medium_quick = quicksort(medium)\n",
    "m_quick_stop = time.clock()\n",
    "mediumQuick_time = m_quick_stop - m_quick_start\n",
    "\n",
    "# z warmup\n",
    "#z  = np.sort(z)\n",
    "# sort big array\n",
    "b_quick_start = time.clock()\n",
    "big_quick = quicksort(big)\n",
    "b_quick_stop = time.clock()\n",
    "bigQuick_time = b_quick_stop - b_quick_start\n",
    "\n",
    "# z warmup\n",
    "#z  = np.sort(z)\n",
    "# sort bigger array\n",
    "br_quick_start = time.clock()\n",
    "bigger_quick = quicksort(bigger)\n",
    "br_quick_stop = time.clock()\n",
    "biggerQuick_time = br_quick_stop - br_quick_start\n",
    "\n",
    "# z warmup\n",
    "#z  = np.sort(z)\n",
    "# sort biggest array\n",
    "bs_quick_start = time.clock()\n",
    "biggest_quick = quicksort(biggest)\n",
    "bs_quick_stop = time.clock()\n",
    "biggestQuick_time = bs_quick_stop - bs_quick_start"
   ]
  },
  {
   "cell_type": "code",
   "execution_count": 10,
   "metadata": {},
   "outputs": [
    {
     "data": {
      "text/plain": [
       "array([['Array Length', 'Sort', 'quickSort', 'Find_Smallest',\n",
       "        'selectionSort'],\n",
       "       ['5000', '0.00027772839506212676', '4.661728394239617e-05',\n",
       "        '0.000557037037037037', '0.8025892345679004'],\n",
       "       ['10000', '0.00013353086419698457', '2.9629629636929167e-05',\n",
       "        '0.0008462222222222222', '3.6558400000000013'],\n",
       "       ['15000', '0.0008754567901263499', '2.923456790426826e-05',\n",
       "        '0.0017607901234567899', '7.472473679012346'],\n",
       "       ['20000', '0.00017501234568584323', '5.333333334078816e-05',\n",
       "        '0.004015802469135802', '11.845226271604936'],\n",
       "       ['25000', '0.00011930864197751134', '6.202469135985211e-05',\n",
       "        '0.00367367901234568', '17.854236049382713']],\n",
       "      dtype='<U22')"
      ]
     },
     "execution_count": 10,
     "metadata": {},
     "output_type": "execute_result"
    }
   ],
   "source": [
    "# create a 5 column array showing length of random array and execution in\n",
    "# milliseconds of the remaining columns\n",
    "\n",
    "fiver = np.array([[\"Array Length\", \"Sort\", \"quickSort\",\"Find_Smallest\", \"selectionSort\"],\n",
    "                  ['5000', smallSort_time,smallQuick_time, smallFindsm_time ,smallSelection_time],\n",
    "                  ['10000', mediumSort_time, mediumQuick_time, mediumFindsm_time, mediumSelection_time],\n",
    "                  ['15000', bigSort_time, bigQuick_time, bigFindsm_time, bigSelection_time],\n",
    "                  ['20000', biggerSort_time,biggerQuick_time, biggerFindsm_time, biggerSelection_time],\n",
    "                  ['25000', biggestSort_time,biggestQuick_time, biggestFindsm_time, biggestSelection_time]])\n",
    "fiver"
   ]
  },
  {
   "cell_type": "code",
   "execution_count": 16,
   "metadata": {},
   "outputs": [
    {
     "data": {
      "image/png": "[encoded data removed]",
      "text/plain": [
       "<matplotlib.figure.Figure at 0x225d37bc978>"
      ]
     },
     "metadata": {},
     "output_type": "display_data"
    }
   ],
   "source": [
    "# use matplotlib to generate a plot with the size of the random array on the horizontal\n",
    "# and the execution time in milliseconds on the vertical axis. This should be \n",
    "# for sequential and binary search algorithms only\n",
    "\n",
    "plt.plot([5000, 10000, 15000, 20000, 25000],\n",
    "         [smallFindsm_time, mediumFindsm_time, bigFindsm_time, biggerFindsm_time, biggestFindsm_time],\n",
    "         'b--',\n",
    "         [5000, 10000, 15000, 20000, 25000],\n",
    "         [smallSelection_time, mediumSelection_time,bigSelection_time,biggerSelection_time,biggestSelection_time],\n",
    "         'r--')\n",
    "plt.axis([5000,25000,-1,10])\n",
    "plt.xlabel('Array Size')\n",
    "plt.ylabel('Execution Time')\n",
    "plt.title('Size vs. Execution Time')\n",
    "plt.legend(['selectionSort', 'findSmallest'], loc=2)\n",
    "plt.show()\n"
   ]
  },
  {
   "cell_type": "code",
   "execution_count": 17,
   "metadata": {},
   "outputs": [
    {
     "data": {
      "image/png": "[encoded data removed]",
      "text/plain": [
       "<matplotlib.figure.Figure at 0x225d3760b00>"
      ]
     },
     "metadata": {},
     "output_type": "display_data"
    }
   ],
   "source": [
    "# use matplotlib to generate a plot withthe size of the random array on the horizontal\n",
    "# and the execution time in milliseconds on the vertical axis. The plot should \n",
    "# show exectuion time against array size for each form of the algorithm being tested\n",
    "\n",
    "plt.plot([5000, 10000, 15000, 20000, 25000],\n",
    "         [smallSort_time,mediumSort_time,bigSort_time,biggerSort_time,biggestSort_time],\n",
    "         'g--',\n",
    "         [5000, 10000, 15000, 20000, 25000],\n",
    "         [smallFindsm_time, mediumFindsm_time, bigFindsm_time, biggerFindsm_time, biggestFindsm_time],\n",
    "         'r--',\n",
    "         [5000, 10000, 15000, 20000, 25000],\n",
    "         [smallQuick_time, mediumQuick_time, bigQuick_time, biggerQuick_time, biggestQuick_time],\n",
    "         'b-',\n",
    "         [5000, 10000, 15000, 20000, 25000],\n",
    "         [smallSelection_time, mediumSelection_time,bigSelection_time,biggerSelection_time,biggestSelection_time],\n",
    "         'b--')\n",
    "plt.axis([5000,25000,-1,10])\n",
    "plt.xlabel('Problem Size')\n",
    "plt.ylabel('Execution Time')\n",
    "plt.title('Problem Size vs Execution Time')\n",
    "plt.legend(['Sort', 'findSmallest','quickSort', 'selectionSort'], loc=2)\n",
    "plt.show()"
   ]
  },
  {
   "cell_type": "code",
   "execution_count": 15,
   "metadata": {},
   "outputs": [
    {
     "data": {
      "image/png": "[encoded data removed]",
      "text/plain": [
       "<matplotlib.figure.Figure at 0x225d3760048>"
      ]
     },
     "metadata": {},
     "output_type": "display_data"
    }
   ],
   "source": [
    "# \n",
    "\n",
    "plt.plot([5000, 10000, 15000, 20000, 25000],\n",
    "         [smallSort_time,mediumSort_time,bigSort_time,biggerSort_time,biggestSort_time],\n",
    "         'g--',\n",
    "         [5000, 10000, 15000, 20000, 25000],\n",
    "         [smallFindsm_time, mediumFindsm_time, bigFindsm_time, biggerFindsm_time, biggestFindsm_time],\n",
    "         'r--',\n",
    "         [5000, 10000, 15000, 20000, 25000],\n",
    "         [smallQuick_time, mediumQuick_time, bigQuick_time, biggerQuick_time, biggestQuick_time],\n",
    "         'b-')\n",
    "plt.xlabel('Problem Size')\n",
    "plt.ylabel('Execution Time')\n",
    "plt.title('Problem Size vs Execution Time - O(1)')\n",
    "plt.legend(['Sort', 'findSmallest','quickSort'], loc=2)\n",
    "plt.show()"
   ]
  },
  {
   "cell_type": "markdown",
   "metadata": {},
   "source": [
    "Executive Summary:"
   ]
  },
  {
   "cell_type": "markdown",
   "metadata": {},
   "source": [
    "The algorithms in this experiment were tested on various sized arrays (5,000, 10,000, 15,000, 20,000, and 25,000). The plots express the algorithm performance in time with respect to size, but like all algorithm evaluation, it is important to understand the rate at which the time/size complexity grows. In the graph \"Problem Size vs Execution Time,\" you can see that the Quicksort algorithm is the fastest algorithm. In Big O notation, Quicksort's average case is expressed as O(n log n). In comparison, Selectionsort's performance is much worse. It's Big O notation is expressed as O(n x n) or O(n^2). On average, Selectionsort algorithms dont check n elements n times. They actually check n elements, then n-1, n-2, n-3, etc. This means the Big O notation is actually O(n x 1/2 x n), but because constants are removed from Big O notation it is represented as O(n^2)."
   ]
  },
  {
   "cell_type": "code",
   "execution_count": null,
   "metadata": {
    "collapsed": true
   },
   "outputs": [],
   "source": []
  }
 ],
 "metadata": {
  "kernelspec": {
   "display_name": "Python 3",
   "language": "python",
   "name": "python3"
  },
  "language_info": {
   "codemirror_mode": {
    "name": "ipython",
    "version": 3
   },
   "file_extension": ".py",
   "mimetype": "text/x-python",
   "name": "python",
   "nbconvert_exporter": "python",
   "pygments_lexer": "ipython3",
   "version": "3.6.3"
  }
 },
 "nbformat": 4,
 "nbformat_minor": 2
}
