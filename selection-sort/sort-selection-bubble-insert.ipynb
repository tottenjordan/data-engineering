﻿{
 "cells": [
  {
   "cell_type": "markdown",
   "metadata": {},
   "source": [
    "### Selection Sort vs. Bubble Sort vs. Insertion Sort\n",
    "\n",
    "Compare the execution of each algorithm\n",
    "\n",
    "\n",
    "Time Complexity|    Selection Sort     |       Bubble Sort      |  Insertion Sort\n",
    "---------------|-----------------------|------------------------|---------------------\n",
    "  Average Case |       $О(n^2)$        |         $О(n^2)$       |     $О(n^2)$\n",
    "      "
   ]
  },
  {
   "cell_type": "code",
   "execution_count": 1,
   "metadata": {
    "collapsed": true
   },
   "outputs": [],
   "source": [
    "import numpy as np\n",
    "import pandas as pd\n",
    "pd.options.display.float_format = '{:,.3f}'.format # specify pandas float print format\n",
    "\n",
    "import matplotlib.pyplot as plt\n",
    "plt.rcParams.update({'font.size': 14}) # set font size for plt graphs"
   ]
  },
  {
   "cell_type": "code",
   "execution_count": 2,
   "metadata": {
    "collapsed": true
   },
   "outputs": [],
   "source": [
    "# Define class to sort arrays using selection, bubble, and insertion sort.\n",
    "# The class includes a method to include run time for the sorting methods.\n",
    "class Sort():\n",
    "    \n",
    "    # Method to initaite class\n",
    "    def __init__(self, arr_size = 1, seed = 123):\n",
    "        self.arr_size = arr_size\n",
    "        self.seed = seed\n",
    "        self.arr = list(np.random.randint(low = 0,dtype=int, high=1000, size=self.arr_size))\n",
    "    \n",
    "    \n",
    "    \n",
    "    # Method to find and store the index of the smalles value in the array\n",
    "    # This method is necessary for the selection sort algorithm\n",
    "    def findSmallest(self):\n",
    "        smallest = self.arr[0]\n",
    "        smallest_index = 0\n",
    "        \n",
    "        for i in range(1, len(self.arr)):\n",
    "            if self.arr[i] < smallest:\n",
    "                smallest = self.arr[i]\n",
    "                smallest_index = i\n",
    "        \n",
    "        return smallest_index\n",
    "    \n",
    "    \n",
    "    \n",
    "    # Selection sort algorithm from Grokking Algorithms textbook\n",
    "    def selectionSort(self):\n",
    "        \n",
    "        # Empty list to hold sorted output\n",
    "        newArr = []\n",
    "        \n",
    "        # Loop over array, find the smallest value, delete it from array\n",
    "        # and append to the empty list defined above\n",
    "        for i in range(len(self.arr)):\n",
    "            smallest = self.findSmallest()\n",
    "            newArr.append(self.arr.pop(smallest)) #The pop() method removes the element at the specified position.\n",
    "        \n",
    "        # replace the class array with the sorted array\n",
    "        self.arr = newArr\n",
    "    \n",
    "    \n",
    "    \n",
    "    # Bubble sort algorithm\n",
    "    def bubbleSort(self): \n",
    "\n",
    "    # This algorithm compares each pair of adjacent elements in a loop and swap them if\n",
    "    # the first elment in the pair is larger than the second element\n",
    "    \n",
    "        # Define i as the element to compare and swap\n",
    "        for i in range(self.arr_size): \n",
    "\n",
    "            # Compare i with the jth element\n",
    "            for j in range(0, self.arr_size-i-1): \n",
    "                \n",
    "                # Swap it arr[i] > arr[j]\n",
    "                if self.arr[j] > self.arr[j+1] : \n",
    "                    self.arr[j], self.arr[j+1] = self.arr[j+1], self.arr[j]\n",
    "\n",
    "    # Insertion sort algorithm\n",
    "    def insertionSort(self): \n",
    "    \n",
    "    # This algorithm builds a sorted list by removing one element at a time\n",
    "    # and finding the right position in the sorted list\n",
    "    \n",
    "        # Loop through 1 to len(arr) \n",
    "        for i in range(1, len(self.arr)): \n",
    "            \n",
    "            # Store element to compare in a variable\n",
    "            key = self.arr[i] \n",
    "\n",
    "            # Move elements of the arr one position ahead if element > key\n",
    "            \n",
    "            j = i-1 # Length of the array without key value\n",
    "            while j >=0 and key < self.arr[j] : \n",
    "                    self.arr[j+1] = self.arr[j] \n",
    "                    j -= 1\n",
    "            self.arr[j+1] = key\n",
    "            \n",
    "    # Method to record run times for the sort methods defined above\n",
    "    def sort_record_times(self, func = \"selectionSort\"):\n",
    "\n",
    "        # Sort array and get sort time\n",
    "        import datetime\n",
    "        \n",
    "        # Record start time\n",
    "        start = datetime.datetime.now()\n",
    "        \n",
    "        # Evaluate search method\n",
    "        eval(\"self.\" + func + \"()\")\n",
    "        \n",
    "        # Record end time \n",
    "        end = datetime.datetime.now()\n",
    "        \n",
    "        # Return miliseconds ellapsed between start and end time\n",
    "        return (end - start).microseconds/1000"
   ]
  },
  {
   "cell_type": "markdown",
   "metadata": {},
   "source": [
    "#### Create random arrays and store Sort class results in a data frame"
   ]
  },
  {
   "cell_type": "code",
   "execution_count": 3,
   "metadata": {},
   "outputs": [
    {
     "name": "stdout",
     "output_type": "stream",
     "text": [
      "Array Size: 5000 Sorting Algorithm: selectionSort\n",
      "Array Size: 5000 Sorting Algorithm: bubbleSort\n",
      "Array Size: 5000 Sorting Algorithm: insertionSort\n",
      "Array Size: 10000 Sorting Algorithm: selectionSort\n",
      "Array Size: 10000 Sorting Algorithm: bubbleSort\n",
      "Array Size: 10000 Sorting Algorithm: insertionSort\n",
      "Array Size: 15000 Sorting Algorithm: selectionSort\n",
      "Array Size: 15000 Sorting Algorithm: bubbleSort\n",
      "Array Size: 15000 Sorting Algorithm: insertionSort\n",
      "Array Size: 20000 Sorting Algorithm: selectionSort\n",
      "Array Size: 20000 Sorting Algorithm: bubbleSort\n",
      "Array Size: 20000 Sorting Algorithm: insertionSort\n",
      "Array Size: 25000 Sorting Algorithm: selectionSort\n",
      "Array Size: 25000 Sorting Algorithm: bubbleSort\n",
      "Array Size: 25000 Sorting Algorithm: insertionSort\n"
     ]
    }
   ],
   "source": [
    "# Create a list with random array size\n",
    "arr_size = [5000, 10000, 15000, 20000, 25000]\n",
    "func_list = [\"selectionSort\", \"bubbleSort\", \"insertionSort\"]\n",
    "\n",
    "# Create an empty dataframe to store runtime for each algorithm\n",
    "runtime_df = pd.DataFrame(index= arr_size, columns= func_list)\n",
    "\n",
    "# Define random arrays in a loop and record sort runtimes\n",
    "# By looping first over array_size list and then over func_list list\n",
    "for k in range(len(arr_size)):\n",
    " \n",
    "    for i in range(len(func_list)):\n",
    "        \n",
    "        # Print current array size and algorithm being evaluated\n",
    "        print(\"Array Size:\",arr_size[k],\"Sorting Algorithm:\", func_list[i])\n",
    "    \n",
    "        # Call Sort class and record runtime\n",
    "        exec(f'runtime_df.loc[arr_size[{k}],func_list[{i}]] = Sort(arr_size = arr_size[{k}]).sort_record_times(func = func_list[{i}])')\n"
   ]
  },
  {
   "cell_type": "code",
   "execution_count": 4,
   "metadata": {},
   "outputs": [
    {
     "data": {
      "text/html": [
       "<div>\n",
       "<style>\n",
       "    .dataframe thead tr:only-child th {\n",
       "        text-align: right;\n",
       "    }\n",
       "\n",
       "    .dataframe thead th {\n",
       "        text-align: left;\n",
       "    }\n",
       "\n",
       "    .dataframe tbody tr th {\n",
       "        vertical-align: top;\n",
       "    }\n",
       "</style>\n",
       "<table border=\"1\" class=\"dataframe\">\n",
       "  <thead>\n",
       "    <tr style=\"text-align: right;\">\n",
       "      <th></th>\n",
       "      <th>selectionSort</th>\n",
       "      <th>bubbleSort</th>\n",
       "      <th>insertionSort</th>\n",
       "    </tr>\n",
       "  </thead>\n",
       "  <tbody>\n",
       "    <tr>\n",
       "      <th>5000</th>\n",
       "      <td>214.553</td>\n",
       "      <td>393.255</td>\n",
       "      <td>438.138</td>\n",
       "    </tr>\n",
       "    <tr>\n",
       "      <th>10000</th>\n",
       "      <td>700.828</td>\n",
       "      <td>691.446</td>\n",
       "      <td>939.457</td>\n",
       "    </tr>\n",
       "    <tr>\n",
       "      <th>15000</th>\n",
       "      <td>162.758</td>\n",
       "      <td>222.294</td>\n",
       "      <td>989.857</td>\n",
       "    </tr>\n",
       "    <tr>\n",
       "      <th>20000</th>\n",
       "      <td>434.517</td>\n",
       "      <td>719.077</td>\n",
       "      <td>748.142</td>\n",
       "    </tr>\n",
       "    <tr>\n",
       "      <th>25000</th>\n",
       "      <td>795.379</td>\n",
       "      <td>962.745</td>\n",
       "      <td>382.466</td>\n",
       "    </tr>\n",
       "  </tbody>\n",
       "</table>\n",
       "</div>"
      ],
      "text/plain": [
       "      selectionSort bubbleSort insertionSort\n",
       "5000        214.553    393.255       438.138\n",
       "10000       700.828    691.446       939.457\n",
       "15000       162.758    222.294       989.857\n",
       "20000       434.517    719.077       748.142\n",
       "25000       795.379    962.745       382.466"
      ]
     },
     "execution_count": 4,
     "metadata": {},
     "output_type": "execute_result"
    }
   ],
   "source": [
    "runtime_df"
   ]
  },
  {
   "cell_type": "code",
   "execution_count": 5,
   "metadata": {},
   "outputs": [
    {
     "data": {
      "text/plain": [
       "selectionSort   461.607\n",
       "bubbleSort      597.763\n",
       "insertionSort   699.612\n",
       "dtype: float64"
      ]
     },
     "execution_count": 5,
     "metadata": {},
     "output_type": "execute_result"
    }
   ],
   "source": [
    "runtime_df.mean()"
   ]
  },
  {
   "cell_type": "markdown",
   "metadata": {},
   "source": [
    "#### Plot the execution time against problem size for each algorithm being tested"
   ]
  },
  {
   "cell_type": "code",
   "execution_count": 6,
   "metadata": {},
   "outputs": [
    {
     "data": {
      "image/png": "[encoded data removed]",
      "text/plain": [
       "<matplotlib.figure.Figure at 0x180b1390f28>"
      ]
     },
     "metadata": {},
     "output_type": "display_data"
    }
   ],
   "source": [
    "x_loc = np.arange(runtime_df.shape[0]) # the x locations for the groups\n",
    "width = 0.15 # the width of the bars\n",
    "\n",
    "# set height of bar\n",
    "bars1 = runtime_df.selectionSort\n",
    "bars2 = runtime_df.bubbleSort\n",
    "bars3 = runtime_df.insertionSort\n",
    "\n",
    "\n",
    "# Set position of bar on X axis\n",
    "r1 = np.arange(len(bars1))\n",
    "r2 = [x + width for x in r1]\n",
    "r3 = [x + width for x in r2]\n",
    "\n",
    "fig, ax = plt.subplots(figsize=(15, 10))\n",
    "res1 = ax.bar(r1, bars1, width, color='green')\n",
    "res2 = ax.bar(r2, bars2, width, color='blue')\n",
    "res3 = ax.bar(r3, bars3, width, color='red')\n",
    "\n",
    "# add labels, title and axes ticks\n",
    "ax.set_ylabel('Time in Milliseconds')\n",
    "ax.set_xlabel('Array size')\n",
    "ax.set_title('Runtime by algorithm and array size')\n",
    "ax.set_xticks(x_loc + width / 2)\n",
    "ax.set_xticklabels(arr_size)\n",
    "\n",
    "\n",
    "ax.legend((res1[0], res2[0], res3[0]), \n",
    "          ('Selection Sort', 'Bubble Sort','Insertion Sort'))\n",
    "plt.show()"
   ]
  },
  {
   "cell_type": "code",
   "execution_count": null,
   "metadata": {
    "collapsed": true
   },
   "outputs": [],
   "source": []
  }
 ],
 "metadata": {
  "kernelspec": {
   "display_name": "Python 3",
   "language": "python",
   "name": "python3"
  },
  "language_info": {
   "codemirror_mode": {
    "name": "ipython",
    "version": 3
   },
   "file_extension": ".py",
   "mimetype": "text/x-python",
   "name": "python",
   "nbconvert_exporter": "python",
   "pygments_lexer": "ipython3",
   "version": "3.6.3"
  }
 },
 "nbformat": 4,
 "nbformat_minor": 2
}
