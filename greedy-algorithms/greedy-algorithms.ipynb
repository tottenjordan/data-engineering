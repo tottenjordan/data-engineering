{
 "cells": [
  {
   "cell_type": "markdown",
   "metadata": {},
   "source": [
    "### Greedy Algorithms\n",
    "##### Problem:\n",
    "Let's assume, you run a small security company that provides physical security services in the area.\n",
    "You recently won a new contract in the area to provide 24x7 security to a small under construction building (for simplicity we will design the solution for only 24 hours, but if you want to go above and beyond, feel free to write code that handles the 24x7 scenario as well)\n",
    "You have 6 security guards available at the moment who you can assign to this building but your goal is to make more money out of this contract and spend less in wages (hence greedy!)."
   ]
  },
  {
   "cell_type": "markdown",
   "metadata": {},
   "source": [
    "People working less than or equal to 8 hours are paid $15/hr."
   ]
  },
  {
   "cell_type": "markdown",
   "metadata": {},
   "source": [
    "Anyone working overtime (>8 hours) will be paid an additional $5 per hour worked overtime."
   ]
  },
  {
   "cell_type": "code",
   "execution_count": 3,
   "metadata": {
    "collapsed": true
   },
   "outputs": [],
   "source": [
    "def calc_guard_pay(hours_worked):\n",
    "    if hours_worked > 8:\n",
    "        return hours_worked * 20\n",
    "    else:\n",
    "        return hours_worked * 15"
   ]
  },
  {
   "cell_type": "code",
   "execution_count": 4,
   "metadata": {},
   "outputs": [
    {
     "name": "stdout",
     "output_type": "stream",
     "text": [
      "Guards \t Shift Length \t Cost\n",
      "1 \t 24.0 \t\t 480.0\n",
      "2 \t 12.0 \t\t 480.0\n",
      "3 \t 8.0 \t\t 360.0\n",
      "4 \t 6.0 \t\t 360.0\n",
      "5 \t 4.8 \t\t 360.0\n",
      "6 \t 4.0 \t\t 360.0\n"
     ]
    }
   ],
   "source": [
    "# Simple solution\n",
    "num_guards = 6\n",
    "hours_in_day = 24\n",
    "\n",
    "print('Guards \\t Shift Length \\t Cost')\n",
    "\n",
    "for quantity in range(1, num_guards + 1):\n",
    "    shift_times = hours_in_day/quantity\n",
    "    print('{0} \\t {1} \\t\\t {2}'.format(quantity, shift_times, \n",
    "                                    calc_guard_pay(shift_times) * quantity))"
   ]
  },
  {
   "cell_type": "markdown",
   "metadata": {},
   "source": [
    "Write a greedy algorithm to find the number of guards that achieve the lowest cost"
   ]
  },
  {
   "cell_type": "code",
   "execution_count": 5,
   "metadata": {},
   "outputs": [
    {
     "name": "stdout",
     "output_type": "stream",
     "text": [
      "Guards on duty:  3\n",
      "Total cost:  360\n"
     ]
    }
   ],
   "source": [
    "# Greedy algorithm\n",
    "# Schedule one guard for up to eight hours every time\n",
    "hours_staffed = 0\n",
    "hours_in_day = 24\n",
    "guards_on_duty = 0\n",
    "total_cost = 0\n",
    "while hours_staffed < hours_in_day:\n",
    "    guards_on_duty += 1\n",
    "    hours_staffed += 8\n",
    "    total_cost += calc_guard_pay(8)\n",
    "print('Guards on duty: ', guards_on_duty)\n",
    "print('Total cost: ', total_cost)"
   ]
  },
  {
   "cell_type": "code",
   "execution_count": null,
   "metadata": {
    "collapsed": true
   },
   "outputs": [],
   "source": []
  }
 ],
 "metadata": {
  "kernelspec": {
   "display_name": "Python 3",
   "language": "python",
   "name": "python3"
  },
  "language_info": {
   "codemirror_mode": {
    "name": "ipython",
    "version": 3
   },
   "file_extension": ".py",
   "mimetype": "text/x-python",
   "name": "python",
   "nbconvert_exporter": "python",
   "pygments_lexer": "ipython3",
   "version": "3.6.3"
  }
 },
 "nbformat": 4,
 "nbformat_minor": 2
}
