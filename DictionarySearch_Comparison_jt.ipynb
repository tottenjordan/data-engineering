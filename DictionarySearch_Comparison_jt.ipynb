{
  "nbformat": 4,
  "nbformat_minor": 0,
  "metadata": {
    "colab": {
      "name": "DictionarySearch_Comparison_jt.ipynb",
      "version": "0.3.2",
      "provenance": [],
      "collapsed_sections": [],
      "include_colab_link": true
    },
    "kernelspec": {
      "name": "python3",
      "display_name": "Python 3"
    }
  },
  "cells": [
    {
      "cell_type": "markdown",
      "metadata": {
        "id": "view-in-github",
        "colab_type": "text"
      },
      "source": [
        "<a href=\"https://colab.research.google.com/github/tottenjordan/data-engineering/blob/master/DictionarySearch_Comparison_jt.ipynb\" target=\"_parent\"><img src=\"https://colab.research.google.com/assets/colab-badge.svg\" alt=\"Open In Colab\"/></a>"
      ]
    },
    {
      "metadata": {
        "id": "lz3FYrKD2dRu",
        "colab_type": "text"
      },
      "cell_type": "markdown",
      "source": [
        "# **Assignment 5**\n",
        "\n",
        "## **MSDS 432**\n",
        "\n",
        "### **Executive Summary**\n",
        "\n",
        "This exercise demonstrates and compares the efficiencies of linear, binary, and dictionary searches on both sorted and unsorted data structures. We use a list of 100 random strings. Each string is comprised of 10 random letters. We execute a linear search for 5 names on the unsorted array and then search for those 5 names in an unordered dictionary. Searching through the unordered dictionary takes longer time to execute than linear search on an unsorted array. However, this does not discredit dictionaries. Their strengths are in data structure and performance as the amount of data grows. As dictionaries are hashtables, their average performance is constant, O(1). This means their performance will remain constant even as the data size grows. Linear search’s performance is linear. While it may outperform the dictionary in this example of 100 names, its performance time would decrease as the number of names grew to 1,000, 10,000, etc. \n",
        "\n",
        "Another angle to examine dictionaries is the use of ordered and unordered dictionaries. The graph at the end of this notebook shows the execution times for looking for the same string in an ordered and an unordered dictionary. The execution times between the two are consistent. \n",
        "\n"
      ]
    },
    {
      "metadata": {
        "id": "pdxhIk0Peugx",
        "colab_type": "code",
        "colab": {}
      },
      "cell_type": "code",
      "source": [
        "!pip install -U -q PyDrive\n",
        "from pydrive.auth import GoogleAuth\n",
        "from pydrive.drive import GoogleDrive\n",
        "from google.colab import auth\n",
        "from oauth2client.client import GoogleCredentials\n",
        "import os\n",
        "import pandas as pd\n",
        "auth.authenticate_user()\n",
        "gauth = GoogleAuth()\n",
        "gauth.credentials = GoogleCredentials.get_application_default()\n",
        "drive = GoogleDrive(gauth)"
      ],
      "execution_count": 0,
      "outputs": []
    },
    {
      "metadata": {
        "id": "ZBtYb2gpe69M",
        "colab_type": "text"
      },
      "cell_type": "markdown",
      "source": [
        "The link to this file in Google Colab\n",
        "\n",
        "https://colab.research.google.com/drive/1rWMH6Dj4tFc9T1njSF-WLVuG9U8G03O8#scrollTo=ZBtYb2gpe69M "
      ]
    },
    {
      "metadata": {
        "id": "40KgLyi4e_Wp",
        "colab_type": "text"
      },
      "cell_type": "markdown",
      "source": [
        "# **This notebook compares the execution time for searching names in various data strcutures with various search methods.**\n",
        "\n",
        "100 random names are generated and stored in an unsorted array. Linear search is performed to find 5 random names and the execution timeis recorded. The 100 names are then put into a dictionary in which the Key is the first letter of the name and the values are every name starting with that letter. A search is performed on the same 5 names and the exectuion time is recorded.\n",
        "\n",
        "Then the unsorted array of names is sorted. Linear and Binary search is used to find 6 new random names and the exectuion time is recorded. Those same 6 names are searched for i nthe dictionary and the exectuion time is recorded. "
      ]
    },
    {
      "metadata": {
        "id": "Kasp7v5agF7p",
        "colab_type": "code",
        "colab": {}
      },
      "cell_type": "code",
      "source": [
        "# package management\n",
        "import numpy as np\n",
        "import pandas as pd\n",
        "import random\n",
        "import string\n",
        "import time\n",
        "import matplotlib.pyplot as plt"
      ],
      "execution_count": 0,
      "outputs": []
    },
    {
      "metadata": {
        "id": "fCih81XAgMx_",
        "colab_type": "text"
      },
      "cell_type": "markdown",
      "source": [
        "### **Generate 100 strings with 10 characters each. No duplicates.**\n",
        "\n",
        "Store them in an unsorted list"
      ]
    },
    {
      "metadata": {
        "id": "mDxB_tSWgU3K",
        "colab_type": "code",
        "colab": {}
      },
      "cell_type": "code",
      "source": [
        "def generateName():\n",
        "  charSet = string.ascii_lowercase \n",
        "  length = 10\n",
        "  return ''.join(random.choice(charSet) for _ in range(length))\n",
        "\n",
        "def generateNameList(size):\n",
        "    return [ generateName() for _ in range(size) ]\n",
        "\n",
        "unsorted_name_array = generateNameList(100)"
      ],
      "execution_count": 0,
      "outputs": []
    },
    {
      "metadata": {
        "id": "5J1hoJfVgg9r",
        "colab_type": "text"
      },
      "cell_type": "markdown",
      "source": [
        "**Choose 5 random names for searching**"
      ]
    },
    {
      "metadata": {
        "id": "ZHAI0av8gl7n",
        "colab_type": "code",
        "colab": {}
      },
      "cell_type": "code",
      "source": [
        "rand1 = random.choice(unsorted_name_array)\n",
        "rand2 = random.choice(unsorted_name_array)\n",
        "rand3 = random.choice(unsorted_name_array)\n",
        "rand4 = random.choice(unsorted_name_array)\n",
        "rand5 = random.choice(unsorted_name_array)"
      ],
      "execution_count": 0,
      "outputs": []
    },
    {
      "metadata": {
        "id": "_nC67OCngot1",
        "colab_type": "text"
      },
      "cell_type": "markdown",
      "source": [
        "## **Linear and Binary Search Functions**"
      ]
    },
    {
      "metadata": {
        "id": "-gX9YqlqgtVZ",
        "colab_type": "code",
        "colab": {}
      },
      "cell_type": "code",
      "source": [
        "# linear search\n",
        "def linearSearch(arr, x):\n",
        "    for i in range(len(arr)):\n",
        "        if arr[i] == x:\n",
        "            return i\n",
        "    return -1\n",
        "\n",
        "# binary Search\n",
        "def binary_search(L, target):\n",
        "    start = 0\n",
        "    end = len(L) - 1\n",
        "\n",
        "    while start <= end:\n",
        "        middle = (start + end)// 2\n",
        "        midpoint = L[middle]\n",
        "        if midpoint > target:\n",
        "            end = middle - 1\n",
        "        elif midpoint < target:\n",
        "            start = middle + 1\n",
        "        else:\n",
        "            return midpoint"
      ],
      "execution_count": 0,
      "outputs": []
    },
    {
      "metadata": {
        "id": "j4_j41cLgxr4",
        "colab_type": "text"
      },
      "cell_type": "markdown",
      "source": [
        "**Search for each of the 5 names (seperately) and record the execution time**"
      ]
    },
    {
      "metadata": {
        "id": "eQMXlX-Ag3s3",
        "colab_type": "code",
        "colab": {}
      },
      "cell_type": "code",
      "source": [
        "# 1 \n",
        "linear_1_unsort_start = time.clock()\n",
        "linear1 = linearSearch(unsorted_name_array,rand1)\n",
        "linear_1_unsort_stop = time.clock()\n",
        "linear_1_unsort_time = linear_1_unsort_stop - linear_1_unsort_start\n",
        "\n",
        "# 2\n",
        "linear_2_unsort_start = time.clock()\n",
        "linear2 = linearSearch(unsorted_name_array, rand2)\n",
        "linear_2_unsort_stop = time.clock()\n",
        "linear_2_unsort_time = linear_2_unsort_stop - linear_2_unsort_start\n",
        "\n",
        "# 3\n",
        "linear_3_unsort_start = time.clock()\n",
        "linear3 = linearSearch(unsorted_name_array, rand3)\n",
        "linear_3_unsort_stop = time.clock()\n",
        "linear_3_unsort_time = linear_3_unsort_stop - linear_3_unsort_start\n",
        "\n",
        "# 4\n",
        "linear_4_unsort_start = time.clock()\n",
        "linear4 = linearSearch(unsorted_name_array, rand4)\n",
        "linear_4_unsort_stop = time.clock()\n",
        "linear_4_unsort_time = linear_4_unsort_stop - linear_4_unsort_start\n",
        "\n",
        "# 5\n",
        "linear_5_unsort_start = time.clock()\n",
        "linear5 = linearSearch(unsorted_name_array, rand5)\n",
        "linear_5_unsort_stop = time.clock()\n",
        "linear_5_unsort_time = linear_5_unsort_stop - linear_5_unsort_start"
      ],
      "execution_count": 0,
      "outputs": []
    },
    {
      "metadata": {
        "id": "zg80jX-Wg91L",
        "colab_type": "text"
      },
      "cell_type": "markdown",
      "source": [
        "### **Store all 100 names in a dictionary **\n",
        "\n",
        "This for loop creates a dictionary for all names. The Keys in the dictionary are the first letter of a name. The Values to each Key is a list of names that begin with that Key (letter). \n",
        "\n"
      ]
    },
    {
      "metadata": {
        "id": "qdRI5KVdiW2U",
        "colab_type": "code",
        "colab": {
          "base_uri": "https://localhost:8080/",
          "height": 442
        },
        "outputId": "52c5559d-1295-472c-a7d6-b5a1743f5f8e"
      },
      "cell_type": "code",
      "source": [
        "# empty dictionary\n",
        "d={}\n",
        "# create dictionary\n",
        "for word in unsorted_name_array:\n",
        "    if(word[0] not in d.keys()):\n",
        "        d[word[0]]=[]\n",
        "        d[word[0]].append(word)\n",
        "    else:\n",
        "        if(word not in d[word[0]]):\n",
        "          d[word[0]].append(word)\n",
        "for k,v in d.items():\n",
        "        print(k,\":\",v)"
      ],
      "execution_count": 7,
      "outputs": [
        {
          "output_type": "stream",
          "text": [
            "t : ['tcyvpbgjam', 'tvfuekhoig', 'txefmbpyxa', 'tjpgtxjymp', 'tlyjuqhzcq', 'tiewudxcgs', 'tqfquddxbg', 'tfzhmaepmo', 'thhudgfueq']\n",
            "m : ['mdkbodairy', 'mbkjiuqyms']\n",
            "b : ['bnqbotvicb', 'bphrlzveqb', 'buqvycddpx', 'bjnjwxopvu', 'bguqjyfpgx', 'bjarzoglke']\n",
            "y : ['yuftpefzsx', 'yylibaybha', 'ydmfomtqrh', 'yibofribir', 'ytfofzwxkx', 'ymrvfdbqhv']\n",
            "i : ['isknvxrjhk', 'ibicumqrpx']\n",
            "x : ['xguipdqpmi', 'xizgktdoxu', 'xfenighovj', 'xvhmzutfyf']\n",
            "v : ['vztfzwxkjo', 'vyhgnenskb', 'vgjwwpwogb', 'vgixfndkuf']\n",
            "g : ['gazxpatmdp', 'gtrsfvjqpj', 'gqqctifzlz', 'gcllgygggh', 'gdwzooiikh', 'gvbakyvbok']\n",
            "o : ['odvnfgfhbu', 'oxfurccucp', 'omaqzbhqxi', 'oqjzjyjopa', 'olntmanuae']\n",
            "e : ['equbootwwg', 'entdehlben', 'elqrfxupdd', 'epoehwohmj']\n",
            "z : ['zsvzfguxsh', 'zbcyymmvkt', 'zseuwisxhm']\n",
            "c : ['caolwtvwdd', 'cwazfulggh']\n",
            "n : ['najaopivnd', 'nfcwytxeyx', 'nmbrhlxnrg', 'noohvzrojh', 'nwsxshxqdd', 'ndabszozab']\n",
            "r : ['rkcrnvophq', 'rdyxycgclv']\n",
            "a : ['ayvqqevvrv', 'akcoskdohb', 'autewdafgg', 'arobnomjqn']\n",
            "u : ['uzqympuckx', 'ulexpxnwko', 'umnxkoraod', 'usqdaqoevc']\n",
            "l : ['ltypcftohe', 'lxfrjxmhnz', 'lcoxsvviuv', 'lkhmvtoqun', 'lxiaicmyfe', 'ljkztrvtqf', 'latroarzap']\n",
            "q : ['qygpzgkbxt', 'qzprzlbvkd', 'qoonwnnsin']\n",
            "j : ['jpbxkxinub', 'jnrosprdbf', 'jpzjjyrzqu', 'jrvldjfgxk']\n",
            "h : ['hjzbozwrqu', 'hiucljczej']\n",
            "w : ['wikjcwqmpm', 'wabkscjlpr']\n",
            "p : ['pydlhbceur']\n",
            "k : ['kypwyetlmh', 'kwmnyrfdra', 'knhjeuzyvo']\n",
            "d : ['ddcopleutu', 'dlyzucbyhx', 'dwbbdaofrr', 'dkesgicwmq']\n",
            "f : ['fflnxgmlxc', 'fgivfajrac', 'fernrihaef', 'fgafvmecci', 'fiqtefzxgd']\n"
          ],
          "name": "stdout"
        }
      ]
    },
    {
      "metadata": {
        "id": "vRJ34HUlikhA",
        "colab_type": "text"
      },
      "cell_type": "markdown",
      "source": [
        "### **This function enables searches for names in the unsorted dictionary and returns a list of keys for the name searched**\n",
        "Only 1 key should be returned"
      ]
    },
    {
      "metadata": {
        "id": "zHCNUlR7irV5",
        "colab_type": "code",
        "colab": {}
      },
      "cell_type": "code",
      "source": [
        "def search_name(v):\n",
        "    for k,v in d.items():\n",
        "        if v == search_name:\n",
        "            print(k)\n",
        "\n",
        "def getKeysByValue(dictOfElements, valueToFind):\n",
        "    listOfKeys = list()\n",
        "    listOfItems = dictOfElements.items()\n",
        "    for item  in listOfItems:\n",
        "        if item[1] == valueToFind:\n",
        "            listOfKeys.append(item[0])\n",
        "    return  listOfKeys"
      ],
      "execution_count": 0,
      "outputs": []
    },
    {
      "metadata": {
        "id": "b-Eb_DzBi9UV",
        "colab_type": "text"
      },
      "cell_type": "markdown",
      "source": [
        "**Search unsorted dictionary and record exectuion time**"
      ]
    },
    {
      "metadata": {
        "id": "-1KNVv7fjIlg",
        "colab_type": "code",
        "colab": {}
      },
      "cell_type": "code",
      "source": [
        "# 1\n",
        "dict_1_search_start = time.clock()\n",
        "key1 = [k for k, v in d.items() if rand1 in v]\n",
        "dict_1_search_stop = time.clock()\n",
        "dict_1_search_time = dict_1_search_stop - dict_1_search_start\n",
        "\n",
        "# 2\n",
        "dict_2_search_start = time.clock()\n",
        "key2 = [k for k, v in d.items() if rand2 in v]\n",
        "dict_2_search_stop = time.clock()\n",
        "dict_2_search_time = dict_2_search_stop - dict_2_search_start\n",
        "\n",
        "# 3\n",
        "dict_3_search_start = time.clock()\n",
        "key3 = [k for k, v in d.items() if rand3 in v]\n",
        "dict_3_search_stop = time.clock()\n",
        "dict_3_search_time = dict_3_search_stop - dict_3_search_start\n",
        "\n",
        "# 4\n",
        "dict_4_search_start = time.clock()\n",
        "key4 = [k for k, v in d.items() if rand4 in v]\n",
        "dict_4_search_stop = time.clock()\n",
        "dict_4_search_time = dict_4_search_stop - dict_4_search_start\n",
        "\n",
        "# 5\n",
        "dict_5_search_start = time.clock()\n",
        "key5 = [k for k, v in d.items() if rand5 in v]\n",
        "dict_5_search_stop = time.clock()\n",
        "dict_5_search_time = dict_5_search_stop - dict_5_search_start"
      ],
      "execution_count": 0,
      "outputs": []
    },
    {
      "metadata": {
        "id": "QI8XqDxHj4HD",
        "colab_type": "text"
      },
      "cell_type": "markdown",
      "source": [
        "## **Dataframe of Execution Times**"
      ]
    },
    {
      "metadata": {
        "id": "X6S4rYYJj1VM",
        "colab_type": "code",
        "colab": {
          "base_uri": "https://localhost:8080/",
          "height": 204
        },
        "outputId": "a80f8708-8b58-43a8-cfae-cfece2ad2274"
      },
      "cell_type": "code",
      "source": [
        "# array of random names\n",
        "arr = [rand1, rand2, rand3, rand4, rand5]\n",
        "\n",
        "# list of unsorted linear times \n",
        "linear_unsort_time = [linear_1_unsort_time,linear_2_unsort_time,linear_3_unsort_time,\n",
        "                      linear_4_unsort_time,linear_5_unsort_time]\n",
        "\n",
        "# list of unordered dictionary search times\n",
        "dict_search_time = [dict_1_search_time,dict_2_search_time,dict_3_search_time,\n",
        "                    dict_4_search_time,dict_5_search_time]\n",
        "\n",
        "# df\n",
        "execution_time_df = pd.DataFrame(data ={'Linear_Unsorted': linear_unsort_time,\n",
        "                                        'Dictionary': dict_search_time}, index=arr)      \n",
        "execution_time_df  "
      ],
      "execution_count": 10,
      "outputs": [
        {
          "output_type": "execute_result",
          "data": {
            "text/html": [
              "<div>\n",
              "<style scoped>\n",
              "    .dataframe tbody tr th:only-of-type {\n",
              "        vertical-align: middle;\n",
              "    }\n",
              "\n",
              "    .dataframe tbody tr th {\n",
              "        vertical-align: top;\n",
              "    }\n",
              "\n",
              "    .dataframe thead th {\n",
              "        text-align: right;\n",
              "    }\n",
              "</style>\n",
              "<table border=\"1\" class=\"dataframe\">\n",
              "  <thead>\n",
              "    <tr style=\"text-align: right;\">\n",
              "      <th></th>\n",
              "      <th>Dictionary</th>\n",
              "      <th>Linear_Unsorted</th>\n",
              "    </tr>\n",
              "  </thead>\n",
              "  <tbody>\n",
              "    <tr>\n",
              "      <th>xizgktdoxu</th>\n",
              "      <td>0.000107</td>\n",
              "      <td>0.000051</td>\n",
              "    </tr>\n",
              "    <tr>\n",
              "      <th>bphrlzveqb</th>\n",
              "      <td>0.000076</td>\n",
              "      <td>0.000041</td>\n",
              "    </tr>\n",
              "    <tr>\n",
              "      <th>tjpgtxjymp</th>\n",
              "      <td>0.000062</td>\n",
              "      <td>0.000047</td>\n",
              "    </tr>\n",
              "    <tr>\n",
              "      <th>lxiaicmyfe</th>\n",
              "      <td>0.000055</td>\n",
              "      <td>0.000042</td>\n",
              "    </tr>\n",
              "    <tr>\n",
              "      <th>ymrvfdbqhv</th>\n",
              "      <td>0.000053</td>\n",
              "      <td>0.000052</td>\n",
              "    </tr>\n",
              "  </tbody>\n",
              "</table>\n",
              "</div>"
            ],
            "text/plain": [
              "            Dictionary  Linear_Unsorted\n",
              "xizgktdoxu    0.000107         0.000051\n",
              "bphrlzveqb    0.000076         0.000041\n",
              "tjpgtxjymp    0.000062         0.000047\n",
              "lxiaicmyfe    0.000055         0.000042\n",
              "ymrvfdbqhv    0.000053         0.000052"
            ]
          },
          "metadata": {
            "tags": []
          },
          "execution_count": 10
        }
      ]
    },
    {
      "metadata": {
        "id": "Ly3nw2pUjO3d",
        "colab_type": "text"
      },
      "cell_type": "markdown",
      "source": [
        "### **Compare the exectuion times of linear search on an unsorted array and search through an unsorted dictionary**"
      ]
    },
    {
      "metadata": {
        "id": "vWWY6Ys7jdsh",
        "colab_type": "code",
        "colab": {
          "base_uri": "https://localhost:8080/",
          "height": 512
        },
        "outputId": "6e5288bf-06f0-4cb7-a01d-f67a65b1d1f4"
      },
      "cell_type": "code",
      "source": [
        " # bar chart\n",
        "\n",
        "width = .25\n",
        "# bar height\n",
        "bars1 = execution_time_df.Linear_Unsorted\n",
        "bars2 = execution_time_df.Dictionary\n",
        "\n",
        "# set position of bar on X axis\n",
        "r1 = np.arange(len(bars1))\n",
        "r2 = [x + width for x in r1]\n",
        "\n",
        "# start the matplotlib.pyplot figure and add the bar graphs\n",
        "fig, ax = plt.subplots(figsize=(12,8))\n",
        "res1 = ax.bar(r1, bars1, width, color='green')\n",
        "res2 = ax.bar(r2, bars2, width, color=\"blue\")\n",
        "\n",
        "# add labels, title, and axes ticks\n",
        "ax.set_title('Execution Time by Search and Structure')\n",
        "ax.set_ylabel('Time in Seconds')\n",
        "ax.set_xlabel('Name')\n",
        "ax.set_xticks(range(execution_time_df.shape[0]))\n",
        "ax.set_xticklabels(execution_time_df.index.astype(str))\n",
        "\n",
        "# add legend\n",
        "ax.legend((res1[0], res2[0]), ('Linear_Unsorted', 'Dictionary'))\n",
        "\n",
        "# show graph\n",
        "plt.show()"
      ],
      "execution_count": 12,
      "outputs": [
        {
          "output_type": "display_data",
          "data": {
            "image/png": "[encoded data removed]",
            "text/plain": [
              "<matplotlib.figure.Figure at 0x7f29e4422438>"
            ]
          },
          "metadata": {
            "tags": []
          }
        }
      ]
    },
    {
      "metadata": {
        "id": "RNM88CgPkE1u",
        "colab_type": "text"
      },
      "cell_type": "markdown",
      "source": [
        "### **Now, sort the array of 100 names.**\n",
        "\n",
        "Python's native `sorted()` function is used. This hybrid sort method is called Timsort. It is dervied from merge sort and insertion sort\n"
      ]
    },
    {
      "metadata": {
        "id": "f-Kk7Gi4lALw",
        "colab_type": "code",
        "colab": {}
      },
      "cell_type": "code",
      "source": [
        "sorted_names_array = sorted(unsorted_name_array)"
      ],
      "execution_count": 0,
      "outputs": []
    },
    {
      "metadata": {
        "id": "rZ_hDfHalDRq",
        "colab_type": "text"
      },
      "cell_type": "markdown",
      "source": [
        "### **Now choose the 10th, 30th, 50th, 70th, 90th, and 100th name in the sorted array**\n",
        "\n",
        "\n",
        "\n",
        "\n"
      ]
    },
    {
      "metadata": {
        "id": "4gj-Xhw5li2a",
        "colab_type": "code",
        "colab": {}
      },
      "cell_type": "code",
      "source": [
        "temp_array = [sorted_names_array[9], sorted_names_array[29],sorted_names_array[49],\n",
        "              sorted_names_array[69],sorted_names_array[89],sorted_names_array[99]]\n",
        "\n",
        "sorted1 = temp_array[0]\n",
        "sorted2 = temp_array[1]\n",
        "sorted3 = temp_array[2]\n",
        "sorted4 = temp_array[3]\n",
        "sorted5 = temp_array[4]\n",
        "sorted6 = temp_array[5]"
      ],
      "execution_count": 0,
      "outputs": []
    },
    {
      "metadata": {
        "id": "632nR4P_lnxb",
        "colab_type": "text"
      },
      "cell_type": "markdown",
      "source": [
        "### **Search for the name at that index in the sorted array using linear and binary search. Record the execution time**"
      ]
    },
    {
      "metadata": {
        "id": "efIl8Rd5l0eh",
        "colab_type": "code",
        "colab": {}
      },
      "cell_type": "code",
      "source": [
        "## Linear Search\n",
        "# 1 \n",
        "linear_1_sort_start = time.clock()\n",
        "linear1_sorted = linearSearch(sorted_names_array,sorted1)\n",
        "linear_1_sort_stop = time.clock()\n",
        "linear_1_sort_time = linear_1_sort_stop - linear_1_sort_start\n",
        "\n",
        "#2\n",
        "linear_2_sort_start = time.clock()\n",
        "linear2_sorted = linearSearch(sorted_names_array,sorted2)\n",
        "linear_2_sort_stop = time.clock()\n",
        "linear_2_sort_time = linear_2_sort_stop - linear_2_sort_start\n",
        "\n",
        "#3\n",
        "linear_3_sort_start = time.clock()\n",
        "linear3_sorted = linearSearch(sorted_names_array,sorted3)\n",
        "linear_3_sort_stop = time.clock()\n",
        "linear_3_sort_time = linear_3_sort_stop - linear_3_sort_start\n",
        "\n",
        "#4\n",
        "linear_4_sort_start = time.clock()\n",
        "linear4_sorted = linearSearch(sorted_names_array,sorted4)\n",
        "linear_4_sort_stop = time.clock()\n",
        "linear_4_sort_time = linear_4_sort_stop - linear_4_sort_start\n",
        "\n",
        "#5\n",
        "linear_5_sort_start = time.clock()\n",
        "linear5_sorted = linearSearch(sorted_names_array,sorted5)\n",
        "linear_5_sort_stop = time.clock()\n",
        "linear_5_sort_time = linear_5_sort_stop - linear_5_sort_start\n",
        "\n",
        "#6\n",
        "linear_6_sort_start = time.clock()\n",
        "linear6_sorted = linearSearch(sorted_names_array,sorted6)\n",
        "linear_6_sort_stop = time.clock()\n",
        "linear_6_sort_time = linear_6_sort_stop - linear_6_sort_start\n",
        "        \n",
        "############## Binary Search \n",
        "#1\n",
        "binary_1_search_start = time.clock()\n",
        "binary1_ = binary_search(sorted_names_array,sorted1)\n",
        "binary_1_search_stop = time.clock()\n",
        "binary_1_search_time = binary_1_search_stop - binary_1_search_start\n",
        "\n",
        "#2\n",
        "binary_2_search_start = time.clock()\n",
        "binary2_ = binary_search(sorted_names_array,sorted2)\n",
        "binary_2_search_stop = time.clock()\n",
        "binary_2_search_time = binary_2_search_stop - binary_2_search_start\n",
        "\n",
        "#3\n",
        "binary_3_search_start = time.clock()\n",
        "binary3_ = binary_search(sorted_names_array,sorted3)\n",
        "binary_3_search_stop = time.clock()\n",
        "binary_3_search_time = binary_3_search_stop - binary_3_search_start\n",
        "\n",
        "#4\n",
        "binary_4_search_start = time.clock()\n",
        "binary4_ = binary_search(sorted_names_array,sorted4)\n",
        "binary_4_search_stop = time.clock()\n",
        "binary_4_search_time = binary_4_search_stop - binary_4_search_start\n",
        "\n",
        "#5\n",
        "binary_5_search_start = time.clock()\n",
        "binary5_ = binary_search(sorted_names_array,sorted5)\n",
        "binary_5_search_stop = time.clock()\n",
        "binary_5_search_time = binary_5_search_stop - binary_5_search_start\n",
        "\n",
        "#6\n",
        "binary_6_search_start = time.clock()\n",
        "binary6_ = binary_search(sorted_names_array,sorted6)\n",
        "binary_6_search_stop = time.clock()\n",
        "binary_6_search_time = binary_6_search_stop - binary_6_search_start"
      ],
      "execution_count": 0,
      "outputs": []
    },
    {
      "metadata": {
        "id": "v3nQc54SopiU",
        "colab_type": "text"
      },
      "cell_type": "markdown",
      "source": [
        "Create an ordered dictionary"
      ]
    },
    {
      "metadata": {
        "id": "NkL6sYI0os2T",
        "colab_type": "code",
        "colab": {
          "base_uri": "https://localhost:8080/",
          "height": 442
        },
        "outputId": "02ddb586-eea4-47ef-b1ad-6cd2a0bbbc6e"
      },
      "cell_type": "code",
      "source": [
        "# empty dictionary\n",
        "sorted_d={}\n",
        "# create dictionary\n",
        "for word in sorted_names_array:\n",
        "    if(word[0] not in sorted_d.keys()):\n",
        "        sorted_d[word[0]]=[]\n",
        "        sorted_d[word[0]].append(word)\n",
        "    else:\n",
        "        if(word not in sorted_d[word[0]]):\n",
        "          sorted_d[word[0]].append(word)\n",
        "for k,v in sorted_d.items():\n",
        "        print(k,\":\",v)"
      ],
      "execution_count": 19,
      "outputs": [
        {
          "output_type": "stream",
          "text": [
            "a : ['akcoskdohb', 'arobnomjqn', 'autewdafgg', 'ayvqqevvrv']\n",
            "b : ['bguqjyfpgx', 'bjarzoglke', 'bjnjwxopvu', 'bnqbotvicb', 'bphrlzveqb', 'buqvycddpx']\n",
            "c : ['caolwtvwdd', 'cwazfulggh']\n",
            "d : ['ddcopleutu', 'dkesgicwmq', 'dlyzucbyhx', 'dwbbdaofrr']\n",
            "e : ['elqrfxupdd', 'entdehlben', 'epoehwohmj', 'equbootwwg']\n",
            "f : ['fernrihaef', 'fflnxgmlxc', 'fgafvmecci', 'fgivfajrac', 'fiqtefzxgd']\n",
            "g : ['gazxpatmdp', 'gcllgygggh', 'gdwzooiikh', 'gqqctifzlz', 'gtrsfvjqpj', 'gvbakyvbok']\n",
            "h : ['hiucljczej', 'hjzbozwrqu']\n",
            "i : ['ibicumqrpx', 'isknvxrjhk']\n",
            "j : ['jnrosprdbf', 'jpbxkxinub', 'jpzjjyrzqu', 'jrvldjfgxk']\n",
            "k : ['knhjeuzyvo', 'kwmnyrfdra', 'kypwyetlmh']\n",
            "l : ['latroarzap', 'lcoxsvviuv', 'ljkztrvtqf', 'lkhmvtoqun', 'ltypcftohe', 'lxfrjxmhnz', 'lxiaicmyfe']\n",
            "m : ['mbkjiuqyms', 'mdkbodairy']\n",
            "n : ['najaopivnd', 'ndabszozab', 'nfcwytxeyx', 'nmbrhlxnrg', 'noohvzrojh', 'nwsxshxqdd']\n",
            "o : ['odvnfgfhbu', 'olntmanuae', 'omaqzbhqxi', 'oqjzjyjopa', 'oxfurccucp']\n",
            "p : ['pydlhbceur']\n",
            "q : ['qoonwnnsin', 'qygpzgkbxt', 'qzprzlbvkd']\n",
            "r : ['rdyxycgclv', 'rkcrnvophq']\n",
            "t : ['tcyvpbgjam', 'tfzhmaepmo', 'thhudgfueq', 'tiewudxcgs', 'tjpgtxjymp', 'tlyjuqhzcq', 'tqfquddxbg', 'tvfuekhoig', 'txefmbpyxa']\n",
            "u : ['ulexpxnwko', 'umnxkoraod', 'usqdaqoevc', 'uzqympuckx']\n",
            "v : ['vgixfndkuf', 'vgjwwpwogb', 'vyhgnenskb', 'vztfzwxkjo']\n",
            "w : ['wabkscjlpr', 'wikjcwqmpm']\n",
            "x : ['xfenighovj', 'xguipdqpmi', 'xizgktdoxu', 'xvhmzutfyf']\n",
            "y : ['ydmfomtqrh', 'yibofribir', 'ymrvfdbqhv', 'ytfofzwxkx', 'yuftpefzsx', 'yylibaybha']\n",
            "z : ['zbcyymmvkt', 'zseuwisxhm', 'zsvzfguxsh']\n"
          ],
          "name": "stdout"
        }
      ]
    },
    {
      "metadata": {
        "id": "uS2PU9I8nyMu",
        "colab_type": "text"
      },
      "cell_type": "markdown",
      "source": [
        "### **Search for those names in the unordered dictionary. Record the execution time**"
      ]
    },
    {
      "metadata": {
        "id": "-nRObiWAn6Jp",
        "colab_type": "code",
        "colab": {}
      },
      "cell_type": "code",
      "source": [
        "# 1\n",
        "dict_1_sort_start = time.clock()\n",
        "key_sort_1 = [k for k, v in sorted_d.items() if sorted1 in v]\n",
        "dict_1_sort_stop = time.clock()\n",
        "dict_1_sort_time = dict_1_sort_stop - dict_1_sort_start\n",
        "\n",
        "# 2\n",
        "dict_2_sort_start = time.clock()\n",
        "key_sort_2 = [k for k, v in sorted_d.items() if sorted2 in v]\n",
        "dict_2_sort_stop = time.clock()\n",
        "dict_2_sort_time = dict_2_sort_stop - dict_2_sort_start  \n",
        "\n",
        "# 3\n",
        "dict_3_sort_start = time.clock()\n",
        "key_sort_3 = [k for k, v in sorted_d.items() if sorted3 in v]\n",
        "dict_3_sort_stop = time.clock()\n",
        "dict_3_sort_time = dict_3_sort_stop - dict_3_sort_start  \n",
        "\n",
        "# 4\n",
        "dict_4_sort_start = time.clock()\n",
        "key_sort_4 = [k for k, v in sorted_d.items() if sorted4 in v]\n",
        "dict_4_sort_stop = time.clock()\n",
        "dict_4_sort_time = dict_4_sort_stop - dict_4_sort_start  \n",
        "\n",
        "# 5\n",
        "dict_5_sort_start = time.clock()\n",
        "key_sort_5 = [k for k, v in sorted_d.items() if sorted5 in v]\n",
        "dict_5_sort_stop = time.clock()\n",
        "dict_5_sort_time = dict_5_sort_stop - dict_5_sort_start  \n",
        "\n",
        "# 6\n",
        "dict_6_sort_start = time.clock()\n",
        "key_sort_6 = [k for k, v in sorted_d.items() if sorted6 in v]\n",
        "dict_6_sort_stop = time.clock()\n",
        "dict_6_sort_time = dict_6_sort_stop - dict_6_sort_start "
      ],
      "execution_count": 0,
      "outputs": []
    },
    {
      "metadata": {
        "id": "6QlHC4LJpcX_",
        "colab_type": "text"
      },
      "cell_type": "markdown",
      "source": [
        "### **Sorted Search Execution Times**"
      ]
    },
    {
      "metadata": {
        "id": "esV7yT5tn-hZ",
        "colab_type": "code",
        "colab": {
          "base_uri": "https://localhost:8080/",
          "height": 235
        },
        "outputId": "4df085ae-c4c9-49b6-b283-f9971ebc40f4"
      },
      "cell_type": "code",
      "source": [
        "# Create Dataframe of execution times\n",
        "arr2 = [sorted1, sorted2, sorted3, sorted4, sorted5, sorted6]\n",
        "\n",
        "linear_sort_times = [linear_1_sort_time,linear_2_sort_time,linear_3_sort_time,\n",
        "                      linear_4_sort_time,linear_5_sort_time, linear_6_sort_time]\n",
        "\n",
        "binary_sort_times = [binary_1_search_time,binary_2_search_time,binary_3_search_time,\n",
        "                      binary_4_search_time,binary_5_search_time, binary_6_search_time]\n",
        "\n",
        "dict_sort_times = [dict_1_sort_time,dict_2_sort_time,dict_3_sort_time,\n",
        "                    dict_4_sort_time,dict_5_sort_time,dict_6_sort_time]\n",
        "\n",
        "execution_time_df2 = pd.DataFrame(data ={'Linear_Sorted': linear_sort_times,\n",
        "                                         'Binary_Sorted': binary_sort_times,\n",
        "                                        'Dictionary_Sorted': dict_sort_times}, index=arr2)      \n",
        "execution_time_df2   "
      ],
      "execution_count": 21,
      "outputs": [
        {
          "output_type": "execute_result",
          "data": {
            "text/html": [
              "<div>\n",
              "<style scoped>\n",
              "    .dataframe tbody tr th:only-of-type {\n",
              "        vertical-align: middle;\n",
              "    }\n",
              "\n",
              "    .dataframe tbody tr th {\n",
              "        vertical-align: top;\n",
              "    }\n",
              "\n",
              "    .dataframe thead th {\n",
              "        text-align: right;\n",
              "    }\n",
              "</style>\n",
              "<table border=\"1\" class=\"dataframe\">\n",
              "  <thead>\n",
              "    <tr style=\"text-align: right;\">\n",
              "      <th></th>\n",
              "      <th>Binary_Sorted</th>\n",
              "      <th>Dictionary_Sorted</th>\n",
              "      <th>Linear_Sorted</th>\n",
              "    </tr>\n",
              "  </thead>\n",
              "  <tbody>\n",
              "    <tr>\n",
              "      <th>buqvycddpx</th>\n",
              "      <td>0.000038</td>\n",
              "      <td>0.000090</td>\n",
              "      <td>0.000074</td>\n",
              "    </tr>\n",
              "    <tr>\n",
              "      <th>gtrsfvjqpj</th>\n",
              "      <td>0.000037</td>\n",
              "      <td>0.000059</td>\n",
              "      <td>0.000052</td>\n",
              "    </tr>\n",
              "    <tr>\n",
              "      <th>mbkjiuqyms</th>\n",
              "      <td>0.000035</td>\n",
              "      <td>0.000056</td>\n",
              "      <td>0.000041</td>\n",
              "    </tr>\n",
              "    <tr>\n",
              "      <th>tfzhmaepmo</th>\n",
              "      <td>0.000042</td>\n",
              "      <td>0.000054</td>\n",
              "      <td>0.000042</td>\n",
              "    </tr>\n",
              "    <tr>\n",
              "      <th>xizgktdoxu</th>\n",
              "      <td>0.000044</td>\n",
              "      <td>0.000059</td>\n",
              "      <td>0.000043</td>\n",
              "    </tr>\n",
              "    <tr>\n",
              "      <th>zsvzfguxsh</th>\n",
              "      <td>0.000036</td>\n",
              "      <td>0.000053</td>\n",
              "      <td>0.000049</td>\n",
              "    </tr>\n",
              "  </tbody>\n",
              "</table>\n",
              "</div>"
            ],
            "text/plain": [
              "            Binary_Sorted  Dictionary_Sorted  Linear_Sorted\n",
              "buqvycddpx       0.000038           0.000090       0.000074\n",
              "gtrsfvjqpj       0.000037           0.000059       0.000052\n",
              "mbkjiuqyms       0.000035           0.000056       0.000041\n",
              "tfzhmaepmo       0.000042           0.000054       0.000042\n",
              "xizgktdoxu       0.000044           0.000059       0.000043\n",
              "zsvzfguxsh       0.000036           0.000053       0.000049"
            ]
          },
          "metadata": {
            "tags": []
          },
          "execution_count": 21
        }
      ]
    },
    {
      "metadata": {
        "id": "Ekh0BXy5pizW",
        "colab_type": "text"
      },
      "cell_type": "markdown",
      "source": [
        "### **Compare the execution times of searching an ordered dictionary with linear and binary search on a sorted array**"
      ]
    },
    {
      "metadata": {
        "id": "UpR6ksiGp5uw",
        "colab_type": "code",
        "colab": {
          "base_uri": "https://localhost:8080/",
          "height": 512
        },
        "outputId": "0b6e0325-6fa9-4325-84fd-44f2f82e45e8"
      },
      "cell_type": "code",
      "source": [
        "# bar chart\n",
        "\n",
        "width2 = .15\n",
        "# bar height\n",
        "bars3 = execution_time_df2.Linear_Sorted\n",
        "bars4 = execution_time_df2.Binary_Sorted\n",
        "bars5 = execution_time_df2.Dictionary_Sorted\n",
        "\n",
        "# set position of bar on X axis\n",
        "r3 = np.arange(len(bars3))\n",
        "r4 = [x + width2 for x in r3]\n",
        "r5 = [x + width2 for x in r4]\n",
        "\n",
        "# start the matplotlib.pyplot figure and add the bar graphs\n",
        "fig, ax = plt.subplots(figsize=(12,8))\n",
        "res3 = ax.bar(r3, bars3, width2, color='green')\n",
        "res4 = ax.bar(r4, bars4, width2, color=\"blue\")\n",
        "res5 = ax.bar(r5, bars5, width2, color=\"orange\")\n",
        "\n",
        "\n",
        "# add labels, title, and axes ticks\n",
        "ax.set_title('Execution Time by Search and Structure')\n",
        "ax.set_ylabel('Time in Seconds')\n",
        "ax.set_xlabel('Name')\n",
        "ax.set_xticks(range(execution_time_df2.shape[0]))\n",
        "ax.set_xticklabels(execution_time_df2.index.astype(str))\n",
        "\n",
        "# add legend\n",
        "ax.legend((res3[0], res4[0], res5[0]), ('Linear_Sorted', 'Binary_Sorted', 'Dictionary_sorted'))\n",
        "\n",
        "# show graph\n",
        "plt.show()"
      ],
      "execution_count": 23,
      "outputs": [
        {
          "output_type": "display_data",
          "data": {
            "image/png": "[encoded data removed]",
            "text/plain": [
              "<matplotlib.figure.Figure at 0x7f29e1a07eb8>"
            ]
          },
          "metadata": {
            "tags": []
          }
        }
      ]
    },
    {
      "metadata": {
        "id": "0qgmFEk3t_-x",
        "colab_type": "text"
      },
      "cell_type": "markdown",
      "source": [
        "### **Using the same 6 names, search the unordered dictionary and record the execution time **"
      ]
    },
    {
      "metadata": {
        "id": "6K3CrB2kthNE",
        "colab_type": "code",
        "colab": {}
      },
      "cell_type": "code",
      "source": [
        "# 1\n",
        "dict_1_unsort_start = time.clock()\n",
        "key_unsort_1 = [k for k, v in d.items() if sorted1 in v]\n",
        "dict_1_unsort_stop = time.clock()\n",
        "dict_1_unsort_time = dict_1_unsort_stop - dict_1_unsort_start\n",
        "\n",
        "# 2\n",
        "dict_2_unsort_start = time.clock()\n",
        "key_unsort_2 = [k for k, v in d.items() if sorted2 in v]\n",
        "dict_2_unsort_stop = time.clock()\n",
        "dict_2_unsort_time = dict_2_unsort_stop - dict_2_unsort_start  \n",
        "\n",
        "# 3\n",
        "dict_3_unsort_start = time.clock()\n",
        "key_unsort_3 = [k for k, v in d.items() if sorted3 in v]\n",
        "dict_3_unsort_stop = time.clock()\n",
        "dict_3_unsort_time = dict_3_unsort_stop - dict_3_unsort_start  \n",
        "\n",
        "# 4\n",
        "dict_4_unsort_start = time.clock()\n",
        "key_unsort_4 = [k for k, v in d.items() if sorted4 in v]\n",
        "dict_4_unsort_stop = time.clock()\n",
        "dict_4_unsort_time = dict_4_unsort_stop - dict_4_unsort_start  \n",
        "\n",
        "# 5\n",
        "dict_5_unsort_start = time.clock()\n",
        "key_unsort_5 = [k for k, v in d.items() if sorted5 in v]\n",
        "dict_5_unsort_stop = time.clock()\n",
        "dict_5_unsort_time = dict_5_unsort_stop - dict_5_unsort_start  \n",
        "\n",
        "# 6\n",
        "dict_6_unsort_start = time.clock()\n",
        "key_unsort_6 = [k for k, v in d.items() if sorted6 in v]\n",
        "dict_6_unsort_stop = time.clock()\n",
        "dict_6_unsort_time = dict_6_unsort_stop - dict_6_unsort_start"
      ],
      "execution_count": 0,
      "outputs": []
    },
    {
      "metadata": {
        "id": "nGjaCimQtngI",
        "colab_type": "code",
        "colab": {
          "base_uri": "https://localhost:8080/",
          "height": 235
        },
        "outputId": "345deb44-bae0-4af0-d02c-04bfb9d8950d"
      },
      "cell_type": "code",
      "source": [
        "arr3 = [sorted1, sorted2, sorted3, sorted4, sorted5, sorted6]\n",
        "dict_unsort_times = [dict_1_unsort_time,dict_2_unsort_time,dict_3_unsort_time,\n",
        "                      dict_4_unsort_time,dict_5_unsort_time, dict_6_unsort_time]\n",
        "\n",
        "dict_sort_times = [dict_1_sort_time,dict_2_sort_time,dict_3_sort_time,\n",
        "                    dict_4_sort_time,dict_5_sort_time,dict_6_sort_time]\n",
        "\n",
        "execution_time_df3 = pd.DataFrame(data ={'Dict_Unsorted': dict_unsort_times,\n",
        "                                         'Dict_Sorted': dict_sort_times}, index=arr3)      \n",
        "execution_time_df3"
      ],
      "execution_count": 27,
      "outputs": [
        {
          "output_type": "execute_result",
          "data": {
            "text/html": [
              "<div>\n",
              "<style scoped>\n",
              "    .dataframe tbody tr th:only-of-type {\n",
              "        vertical-align: middle;\n",
              "    }\n",
              "\n",
              "    .dataframe tbody tr th {\n",
              "        vertical-align: top;\n",
              "    }\n",
              "\n",
              "    .dataframe thead th {\n",
              "        text-align: right;\n",
              "    }\n",
              "</style>\n",
              "<table border=\"1\" class=\"dataframe\">\n",
              "  <thead>\n",
              "    <tr style=\"text-align: right;\">\n",
              "      <th></th>\n",
              "      <th>Dict_Sorted</th>\n",
              "      <th>Dict_Unsorted</th>\n",
              "    </tr>\n",
              "  </thead>\n",
              "  <tbody>\n",
              "    <tr>\n",
              "      <th>buqvycddpx</th>\n",
              "      <td>0.000090</td>\n",
              "      <td>0.000111</td>\n",
              "    </tr>\n",
              "    <tr>\n",
              "      <th>gtrsfvjqpj</th>\n",
              "      <td>0.000059</td>\n",
              "      <td>0.000060</td>\n",
              "    </tr>\n",
              "    <tr>\n",
              "      <th>mbkjiuqyms</th>\n",
              "      <td>0.000056</td>\n",
              "      <td>0.000056</td>\n",
              "    </tr>\n",
              "    <tr>\n",
              "      <th>tfzhmaepmo</th>\n",
              "      <td>0.000054</td>\n",
              "      <td>0.000056</td>\n",
              "    </tr>\n",
              "    <tr>\n",
              "      <th>xizgktdoxu</th>\n",
              "      <td>0.000059</td>\n",
              "      <td>0.000055</td>\n",
              "    </tr>\n",
              "    <tr>\n",
              "      <th>zsvzfguxsh</th>\n",
              "      <td>0.000053</td>\n",
              "      <td>0.000054</td>\n",
              "    </tr>\n",
              "  </tbody>\n",
              "</table>\n",
              "</div>"
            ],
            "text/plain": [
              "            Dict_Sorted  Dict_Unsorted\n",
              "buqvycddpx     0.000090       0.000111\n",
              "gtrsfvjqpj     0.000059       0.000060\n",
              "mbkjiuqyms     0.000056       0.000056\n",
              "tfzhmaepmo     0.000054       0.000056\n",
              "xizgktdoxu     0.000059       0.000055\n",
              "zsvzfguxsh     0.000053       0.000054"
            ]
          },
          "metadata": {
            "tags": []
          },
          "execution_count": 27
        }
      ]
    },
    {
      "metadata": {
        "id": "bDswjIS8uTHG",
        "colab_type": "code",
        "colab": {
          "base_uri": "https://localhost:8080/",
          "height": 512
        },
        "outputId": "ca3353a1-c2ce-4aae-c920-0e8f212b38d2"
      },
      "cell_type": "code",
      "source": [
        "width3 = .25\n",
        "# bar height\n",
        "bars6 = execution_time_df3.Dict_Sorted\n",
        "bars7 = execution_time_df3.Dict_Unsorted\n",
        "\n",
        "# set position of bar on X axis\n",
        "r6 = np.arange(len(bars6))\n",
        "r7 = [x + width3 for x in r6]\n",
        "\n",
        "# start the matplotlib.pyplot figure and add the bar graphs\n",
        "fig, ax = plt.subplots(figsize=(12,8))\n",
        "res6 = ax.bar(r6, bars6, width3, color='green')\n",
        "res7 = ax.bar(r7, bars7, width3, color=\"blue\")\n",
        "\n",
        "# add labels, title, and axes ticks\n",
        "ax.set_title('Ordered vs. Unordered Dictionary')\n",
        "ax.set_ylabel('Time in Seconds')\n",
        "ax.set_xlabel('Name')\n",
        "ax.set_xticks(range(execution_time_df3.shape[0]))\n",
        "ax.set_xticklabels(execution_time_df3.index.astype(str))\n",
        "\n",
        "# add legend\n",
        "ax.legend((res6[0], res7[0]), ('Ordered Dictionary', 'Unordered Dictionary'))\n",
        "\n",
        "# show graph\n",
        "plt.show()"
      ],
      "execution_count": 29,
      "outputs": [
        {
          "output_type": "display_data",
          "data": {
            "image/png": "[encoded data removed]",
            "text/plain": [
              "<matplotlib.figure.Figure at 0x7f29e1a079b0>"
            ]
          },
          "metadata": {
            "tags": []
          }
        }
      ]
    }
  ]
}