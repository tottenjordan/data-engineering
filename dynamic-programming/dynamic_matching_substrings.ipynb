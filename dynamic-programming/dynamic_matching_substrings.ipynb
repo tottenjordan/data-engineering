﻿{
 "cells": [
  {
   "cell_type": "markdown",
   "metadata": {},
   "source": [
    "#### Dynamic Programming: finding the longest substring\n",
    "\n",
    "The purpose of this program is to implement a dynamic algorithm which finds the longest matching substraing between two strings. A functions with loops allows us to find the longest matching substring in $O(n)$. Without the looping, we would have to find all matching substrings between length 1 and the maximum length of the shortest string and pick the largest one. The two strings used here are (1) the first paragraph of Moby Dick (1,111 characters) and (2) the first paragraph of the Tell-Tale Heart (388 characters).  "
   ]
  },
  {
   "cell_type": "code",
   "execution_count": 1,
   "metadata": {},
   "outputs": [
    {
     "name": "stdout",
     "output_type": "stream",
     "text": [
      "The first paragraph of Moby Dick is 1111 characters long\n",
      "The first paragraph of the Tell-Tale Heart is 388 characters long\n"
     ]
    }
   ],
   "source": [
    "# First paragraph in Moby Dick\n",
    "mobydick = \"\"\" \n",
    "Call me Ishmael. Some years ago- never mind how long preciselyhaving\n",
    "little or no money in my purse, and nothing particular to interest\n",
    "me on shore, I thought I would sail about a little and see the watery part\n",
    "of the world. It is a way I have of driving off the spleen and regulating\n",
    "the circulation. Whenever I find myself growing grim about the mouth;\n",
    "whenever it is a damp, drizzly November in my soul; whenever I find\n",
    "myself involuntarily pausing before coffin warehouses, and bringing up\n",
    "the rear of every funeral I meet; and especially whenever my hypos get\n",
    "such an upper hand of me, that it requires a strong moral principle to\n",
    "prevent me from deliberately stepping into the street, and methodically\n",
    "knocking people’s hats off- then, I account it high time to get to sea as\n",
    "soon as I can. This is my substitute for pistol and ball. With a\n",
    "philosophical flourish Cato throws himself upon his sword; I quietly take\n",
    "to the ship. There is nothing surprising in this. If they but knew it, almost\n",
    "all men in their degree, some time or other, cherish very nearly the same\n",
    "feelings towards the ocean with me.\n",
    "\"\"\"\n",
    "\n",
    "print(\"The first paragraph of Moby Dick is %i characters long\" %len(mobydick))\n",
    "\n",
    "# First paragraph in the Tell-Tale Heart\n",
    "telltaleheart = \"\"\"\n",
    "True!—nervous—very, very dreadfully nervous I had been\n",
    "and am; but why will you say that I am mad? The disease\n",
    "had sharpened my senses—not destroyed—not dulled\n",
    "them. Above all was the sense of hearing acute. I heard all\n",
    "things in the heaven and in the earth. I heard many things\n",
    "in hell. How, then, am I mad? Hearken! and observe how\n",
    "healthily—how calmly I can tell you the whole story.\n",
    "\"\"\"\n",
    "\n",
    "print(\"The first paragraph of the Tell-Tale Heart is %i characters long\" %len(telltaleheart))"
   ]
  },
  {
   "cell_type": "code",
   "execution_count": 3,
   "metadata": {},
   "outputs": [
    {
     "name": "stdout",
     "output_type": "stream",
     "text": [
      "Length of longest substring: 7\n",
      "10.099651278599048\n"
     ]
    }
   ],
   "source": [
    "import time\n",
    "# Function to get the longest matching subtring between two strings\n",
    "# using dynamic programming\n",
    "def longestsubstring(str1,str2):\n",
    "    \n",
    "    import numpy as np\n",
    "    from string import ascii_lowercase # to generate random strings\n",
    "    letters = [letter for letter in ascii_lowercase]\n",
    "    \n",
    "    # Initiate a matrix to store results\n",
    "    matrix = np.zeros(shape = (len(str1), len(str2)), dtype = int)\n",
    "    \n",
    "    # Store the number of rows and columns in a variables \n",
    "    # for easier reference in the loops\n",
    "    rows = matrix.shape[0]\n",
    "    cols = matrix.shape[1]\n",
    "\n",
    "    # Loop over each letter in str1\n",
    "    for row in range(rows):\n",
    "\n",
    "        # Loop over each letter in str2\n",
    "        for col in range(cols):\n",
    "\n",
    "            # If the letters match\n",
    "            if str1[row]==str2[col]:\n",
    "                \n",
    "                # Change value of cell by adding 1 \n",
    "                # to the value in the cell to the top left\n",
    "                matrix[row,col] = matrix[row-1,col-1] + 1\n",
    "                \n",
    "                # Change the max length of the matching substring\n",
    "                maxlength = matrix.max()\n",
    "\n",
    "            else:\n",
    "                pass\n",
    "    \n",
    "    # Get the starting position of the substing\n",
    "    start = np.argmax(np.max(matrix, axis=1))-maxlength + 1\n",
    "\n",
    "    # Get the ending position of the substing\n",
    "    stop = np.argmax(np.max(matrix, axis=1)) + 1\n",
    "\n",
    "    print(\"Length of longest substring:\", maxlength)\n",
    "    \n",
    "    return str1[start:stop]\n",
    "\n",
    "\n",
    "# Call function with the first paragraph of Moby Dick and the Tell-Tale Heart\n",
    "start = time.clock()\n",
    "longestsubstring(mobydick,telltaleheart)\n",
    "stop = time.clock()\n",
    "execution_time = stop - start\n",
    "print(execution_time)"
   ]
  }
 ],
 "metadata": {
  "kernelspec": {
   "display_name": "Python 3",
   "language": "python",
   "name": "python3"
  },
  "language_info": {
   "codemirror_mode": {
    "name": "ipython",
    "version": 3
   },
   "file_extension": ".py",
   "mimetype": "text/x-python",
   "name": "python",
   "nbconvert_exporter": "python",
   "pygments_lexer": "ipython3",
   "version": "3.6.3"
  }
 },
 "nbformat": 4,
 "nbformat_minor": 2
}
