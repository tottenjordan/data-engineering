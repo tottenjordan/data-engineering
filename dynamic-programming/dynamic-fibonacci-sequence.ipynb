{
 "cells": [
  {
   "cell_type": "markdown",
   "metadata": {},
   "source": [
    "#### Solving the nth Fibonacci number using Dynmic Programming\n",
    "\n",
    "In this notebook, we solve for the nth number in the fibonacci sequence using two methods. Method 1 implements two functions: one for calculating the nth fibonacci number and another to calculate and store all previous fibonacci numbers. Method 2 just solves for the nth fibonacci numbers recursively.\n",
    "\n",
    "In mathemtatical terms, the fibonacci sequence is defined as:\n",
    "$F_{n} = F_{(n-1)} + F_{(n-2)}$\n",
    "\n",
    "and the first 13 integers in the sequence are:\n",
    "0, 1, 1, 2, 3, 5, 8, 13, 21, 34, 55, 89, 144, ..."
   ]
  },
  {
   "cell_type": "code",
   "execution_count": 1,
   "metadata": {
    "collapsed": true
   },
   "outputs": [],
   "source": [
    "import pandas as pd\n",
    "import numpy as np\n",
    "import time\n",
    "import matplotlib.pyplot as plt"
   ]
  },
  {
   "cell_type": "code",
   "execution_count": 2,
   "metadata": {},
   "outputs": [
    {
     "name": "stdout",
     "output_type": "stream",
     "text": [
      "34\n"
     ]
    }
   ],
   "source": [
    "# Method 1\n",
    "# Fibonacci Series using Dynamic Programming \n",
    "def fibonacci(n):\n",
    "    # r[i] will contain the ith Fibonacci number\n",
    "    r = [-1]*(n + 1)\n",
    "    return fibonacci_helper(n, r)\n",
    " \n",
    " \n",
    "def fibonacci_helper(n, r):\n",
    "    if r[n] >= 0:\n",
    "        return r[n]\n",
    " \n",
    "    if (n == 0 or n == 1):\n",
    "        q = n\n",
    "    else:\n",
    "        q = fibonacci_helper(n - 1, r) + fibonacci_helper(n - 2, r)\n",
    "    r[n] = q\n",
    " \n",
    "    return q\n",
    " \n",
    "print(fibonacci(9))"
   ]
  },
  {
   "cell_type": "code",
   "execution_count": 3,
   "metadata": {},
   "outputs": [
    {
     "name": "stdout",
     "output_type": "stream",
     "text": [
      "34\n"
     ]
    }
   ],
   "source": [
    "# Method 2\n",
    "# Recursive fibonacci function  \n",
    "def Fibonacci(n): \n",
    "    if n<0: \n",
    "        print(\"Incorrect input\") \n",
    "    # First Fibonacci number is 0 \n",
    "    elif n==0: \n",
    "        return 0\n",
    "    # Second Fibonacci number is 1 \n",
    "    elif n==1: \n",
    "        return 1\n",
    "    else: \n",
    "        return Fibonacci(n-1)+Fibonacci(n-2) \n",
    "\n",
    "print(Fibonacci(9)) "
   ]
  },
  {
   "cell_type": "code",
   "execution_count": 4,
   "metadata": {
    "collapsed": true
   },
   "outputs": [],
   "source": [
    "## find the nth fibonacci number using Dynamic Programming\n",
    "# 5, 9, 16, 23, 30\n",
    "\n",
    "# DP - 5 \n",
    "dp_five_fib_start = time.clock()\n",
    "dp_five_fib = fibonacci(5)\n",
    "dp_five_fib_stop = time.clock()\n",
    "dp_five_time = dp_five_fib_stop - dp_five_fib_start\n",
    "\n",
    "# DP - 9 \n",
    "dp_nine_fib_start = time.clock()\n",
    "dp_nine_fib = fibonacci(9)\n",
    "dp_nine_fib_stop = time.clock()\n",
    "dp_nine_time = dp_nine_fib_stop - dp_nine_fib_start\n",
    "\n",
    "# DP - 16 \n",
    "dp_sixteen_fib_start = time.clock()\n",
    "dp_sixteen_fib = fibonacci(16)\n",
    "dp_sixteen_fib_stop = time.clock()\n",
    "dp_sixteen_time = dp_sixteen_fib_stop - dp_sixteen_fib_start\n",
    "\n",
    "# DP - 23\n",
    "dp_twentythree_fib_start = time.clock()\n",
    "dp_twentythree_fib = fibonacci(23)\n",
    "dp_twentythree_fib_stop = time.clock()\n",
    "dp_twentythree_time = dp_twentythree_fib_stop - dp_twentythree_fib_start\n",
    "\n",
    "# DP - 30\n",
    "dp_thirty_fib_start = time.clock()\n",
    "dp_thirty_fib = fibonacci(30)\n",
    "dp_thirty_fib_stop = time.clock()\n",
    "dp_thirty_time = dp_thirty_fib_stop - dp_thirty_fib_start\n",
    "\n",
    "# DP - 32\n",
    "dp_thirtytwo_fib_start = time.clock()\n",
    "dp_thirtytwo_fib = fibonacci(32)\n",
    "dp_thirtytwo_fib_stop = time.clock()\n",
    "dp_thirtytwo_time = dp_thirtytwo_fib_stop - dp_thirtytwo_fib_start"
   ]
  },
  {
   "cell_type": "code",
   "execution_count": 5,
   "metadata": {
    "collapsed": true
   },
   "outputs": [],
   "source": [
    "## print the nth fibonacci number using recursion\n",
    "# 5, 9, 16, 23, 30\n",
    "\n",
    "# R - 5 \n",
    "r_five_fib_start = time.clock()\n",
    "r_five_fib = Fibonacci(5)\n",
    "r_five_fib_stop = time.clock()\n",
    "r_five_time = r_five_fib_stop - r_five_fib_start\n",
    "\n",
    "# R - 9 \n",
    "r_nine_fib_start = time.clock()\n",
    "r_nine_fib = Fibonacci(9)\n",
    "r_nine_fib_stop = time.clock()\n",
    "r_nine_time = r_nine_fib_stop - r_nine_fib_start\n",
    "\n",
    "# R - 16 \n",
    "r_sixteen_fib_start = time.clock()\n",
    "r_sixteen_fib = Fibonacci(16)\n",
    "r_sixteen_fib_stop = time.clock()\n",
    "r_sixteen_time = r_sixteen_fib_stop - r_sixteen_fib_start\n",
    "\n",
    "# R - 23\n",
    "r_twentythree_fib_start = time.clock()\n",
    "r_twentythree_fib = Fibonacci(23)\n",
    "r_twentythree_fib_stop = time.clock()\n",
    "r_twentythree_time = r_twentythree_fib_stop - r_twentythree_fib_start\n",
    "\n",
    "# R - 30\n",
    "r_thirty_fib_start = time.clock()\n",
    "r_thirty_fib = Fibonacci(30)\n",
    "r_thirty_fib_stop = time.clock()\n",
    "r_thirty_time = r_thirty_fib_stop - r_thirty_fib_start\n",
    "\n",
    "# R - 32\n",
    "r_thirtytwo_fib_start = time.clock()\n",
    "r_thirtytwo_fib = Fibonacci(32)\n",
    "r_thirtytwo_fib_stop = time.clock()\n",
    "r_thirtytwo_time = r_thirtytwo_fib_stop - r_thirtytwo_fib_start"
   ]
  },
  {
   "cell_type": "code",
   "execution_count": 6,
   "metadata": {},
   "outputs": [
    {
     "data": {
      "image/png": "[encoded data removed]",
      "text/plain": [
       "<matplotlib.figure.Figure at 0x15c17b752e8>"
      ]
     },
     "metadata": {},
     "output_type": "display_data"
    }
   ],
   "source": [
    "plt.plot([5, 9, 16, 23, 30, 32],\n",
    "         [dp_five_time, dp_nine_time, dp_sixteen_time, dp_twentythree_time, dp_thirty_time, dp_thirtytwo_time],\n",
    "         'b--',\n",
    "         [5, 9, 16, 23, 30, 32],\n",
    "         [r_five_time, r_nine_time, r_sixteen_time, r_twentythree_time, r_thirty_time, r_thirtytwo_time],\n",
    "         'r--')\n",
    "\n",
    "plt.xlabel('nth Number in Sequence')\n",
    "plt.ylabel('Execution Time')\n",
    "plt.title('nth Size vs Execution Time')\n",
    "plt.legend(['Dynamic Programming', 'Recursion'], loc=2)\n",
    "plt.show()"
   ]
  },
  {
   "cell_type": "code",
   "execution_count": null,
   "metadata": {
    "collapsed": true
   },
   "outputs": [],
   "source": []
  }
 ],
 "metadata": {
  "kernelspec": {
   "display_name": "Python 3",
   "language": "python",
   "name": "python3"
  },
  "language_info": {
   "codemirror_mode": {
    "name": "ipython",
    "version": 3
   },
   "file_extension": ".py",
   "mimetype": "text/x-python",
   "name": "python",
   "nbconvert_exporter": "python",
   "pygments_lexer": "ipython3",
   "version": "3.6.3"
  }
 },
 "nbformat": 4,
 "nbformat_minor": 2
}
